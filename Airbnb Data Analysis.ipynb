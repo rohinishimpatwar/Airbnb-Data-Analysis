{
 "cells": [
  {
   "cell_type": "code",
   "execution_count": 1,
   "metadata": {},
   "outputs": [
    {
     "name": "stderr",
     "output_type": "stream",
     "text": [
      "/Users/rohini/anaconda3/lib/python3.6/site-packages/IPython/core/interactiveshell.py:2785: DtypeWarning: Columns (94) have mixed types. Specify dtype option on import or set low_memory=False.\n",
      "  interactivity=interactivity, compiler=compiler, result=result)\n"
     ]
    },
    {
     "data": {
      "text/html": [
       "<div>\n",
       "<style scoped>\n",
       "    .dataframe tbody tr th:only-of-type {\n",
       "        vertical-align: middle;\n",
       "    }\n",
       "\n",
       "    .dataframe tbody tr th {\n",
       "        vertical-align: top;\n",
       "    }\n",
       "\n",
       "    .dataframe thead th {\n",
       "        text-align: right;\n",
       "    }\n",
       "</style>\n",
       "<table border=\"1\" class=\"dataframe\">\n",
       "  <thead>\n",
       "    <tr style=\"text-align: right;\">\n",
       "      <th></th>\n",
       "      <th>id</th>\n",
       "      <th>listing_url</th>\n",
       "      <th>scrape_id</th>\n",
       "      <th>last_scraped</th>\n",
       "      <th>name</th>\n",
       "      <th>summary</th>\n",
       "      <th>space</th>\n",
       "      <th>description</th>\n",
       "      <th>experiences_offered</th>\n",
       "      <th>neighborhood_overview</th>\n",
       "      <th>...</th>\n",
       "      <th>instant_bookable</th>\n",
       "      <th>is_business_travel_ready</th>\n",
       "      <th>cancellation_policy</th>\n",
       "      <th>require_guest_profile_picture</th>\n",
       "      <th>require_guest_phone_verification</th>\n",
       "      <th>calculated_host_listings_count</th>\n",
       "      <th>calculated_host_listings_count_entire_homes</th>\n",
       "      <th>calculated_host_listings_count_private_rooms</th>\n",
       "      <th>calculated_host_listings_count_shared_rooms</th>\n",
       "      <th>reviews_per_month</th>\n",
       "    </tr>\n",
       "  </thead>\n",
       "  <tbody>\n",
       "    <tr>\n",
       "      <th>0</th>\n",
       "      <td>2818</td>\n",
       "      <td>https://www.airbnb.com/rooms/2818</td>\n",
       "      <td>20190808195507</td>\n",
       "      <td>2019-08-09</td>\n",
       "      <td>Quiet Garden View Room &amp; Super Fast WiFi</td>\n",
       "      <td>Quiet Garden View Room &amp; Super Fast WiFi</td>\n",
       "      <td>I'm renting a bedroom (room overlooking the ga...</td>\n",
       "      <td>Quiet Garden View Room &amp; Super Fast WiFi I'm r...</td>\n",
       "      <td>none</td>\n",
       "      <td>Indische Buurt (\"Indies Neighborhood\") is a ne...</td>\n",
       "      <td>...</td>\n",
       "      <td>t</td>\n",
       "      <td>f</td>\n",
       "      <td>strict_14_with_grace_period</td>\n",
       "      <td>f</td>\n",
       "      <td>f</td>\n",
       "      <td>1</td>\n",
       "      <td>0</td>\n",
       "      <td>1</td>\n",
       "      <td>0</td>\n",
       "      <td>2.12</td>\n",
       "    </tr>\n",
       "  </tbody>\n",
       "</table>\n",
       "<p>1 rows × 106 columns</p>\n",
       "</div>"
      ],
      "text/plain": [
       "     id                        listing_url       scrape_id last_scraped  \\\n",
       "0  2818  https://www.airbnb.com/rooms/2818  20190808195507   2019-08-09   \n",
       "\n",
       "                                       name  \\\n",
       "0  Quiet Garden View Room & Super Fast WiFi   \n",
       "\n",
       "                                    summary  \\\n",
       "0  Quiet Garden View Room & Super Fast WiFi   \n",
       "\n",
       "                                               space  \\\n",
       "0  I'm renting a bedroom (room overlooking the ga...   \n",
       "\n",
       "                                         description experiences_offered  \\\n",
       "0  Quiet Garden View Room & Super Fast WiFi I'm r...                none   \n",
       "\n",
       "                               neighborhood_overview        ...          \\\n",
       "0  Indische Buurt (\"Indies Neighborhood\") is a ne...        ...           \n",
       "\n",
       "  instant_bookable is_business_travel_ready          cancellation_policy  \\\n",
       "0                t                        f  strict_14_with_grace_period   \n",
       "\n",
       "  require_guest_profile_picture require_guest_phone_verification  \\\n",
       "0                             f                                f   \n",
       "\n",
       "   calculated_host_listings_count  \\\n",
       "0                               1   \n",
       "\n",
       "   calculated_host_listings_count_entire_homes  \\\n",
       "0                                            0   \n",
       "\n",
       "  calculated_host_listings_count_private_rooms  \\\n",
       "0                                            1   \n",
       "\n",
       "   calculated_host_listings_count_shared_rooms  reviews_per_month  \n",
       "0                                            0               2.12  \n",
       "\n",
       "[1 rows x 106 columns]"
      ]
     },
     "execution_count": 1,
     "metadata": {},
     "output_type": "execute_result"
    }
   ],
   "source": [
    "import numpy as np\n",
    "import pandas as pd\n",
    "from sklearn.linear_model import LinearRegression\n",
    "from sklearn.ensemble import RandomForestRegressor\n",
    "import xgboost\n",
    "%matplotlib inline\n",
    "import seaborn as sns\n",
    "from sklearn.model_selection import train_test_split #split\n",
    "from sklearn.metrics import r2_score, mean_squared_error #metrics\n",
    "data = pd.read_csv(\"/Users/rohini/Downloads/listings_airbnb.csv\")\n",
    "data.head(1)"
   ]
  },
  {
   "cell_type": "markdown",
   "metadata": {},
   "source": [
    "# DATA UNDERSTANDING AND CLEANING"
   ]
  },
  {
   "cell_type": "code",
   "execution_count": 2,
   "metadata": {},
   "outputs": [
    {
     "data": {
      "text/html": [
       "<div>\n",
       "<style scoped>\n",
       "    .dataframe tbody tr th:only-of-type {\n",
       "        vertical-align: middle;\n",
       "    }\n",
       "\n",
       "    .dataframe tbody tr th {\n",
       "        vertical-align: top;\n",
       "    }\n",
       "\n",
       "    .dataframe thead th {\n",
       "        text-align: right;\n",
       "    }\n",
       "</style>\n",
       "<table border=\"1\" class=\"dataframe\">\n",
       "  <thead>\n",
       "    <tr style=\"text-align: right;\">\n",
       "      <th></th>\n",
       "      <th>id</th>\n",
       "      <th>scrape_id</th>\n",
       "      <th>thumbnail_url</th>\n",
       "      <th>medium_url</th>\n",
       "      <th>xl_picture_url</th>\n",
       "      <th>host_id</th>\n",
       "      <th>host_acceptance_rate</th>\n",
       "      <th>host_listings_count</th>\n",
       "      <th>host_total_listings_count</th>\n",
       "      <th>neighbourhood_group_cleansed</th>\n",
       "      <th>...</th>\n",
       "      <th>review_scores_cleanliness</th>\n",
       "      <th>review_scores_checkin</th>\n",
       "      <th>review_scores_communication</th>\n",
       "      <th>review_scores_location</th>\n",
       "      <th>review_scores_value</th>\n",
       "      <th>calculated_host_listings_count</th>\n",
       "      <th>calculated_host_listings_count_entire_homes</th>\n",
       "      <th>calculated_host_listings_count_private_rooms</th>\n",
       "      <th>calculated_host_listings_count_shared_rooms</th>\n",
       "      <th>reviews_per_month</th>\n",
       "    </tr>\n",
       "  </thead>\n",
       "  <tbody>\n",
       "    <tr>\n",
       "      <th>count</th>\n",
       "      <td>2.067700e+04</td>\n",
       "      <td>2.067700e+04</td>\n",
       "      <td>0.0</td>\n",
       "      <td>0.0</td>\n",
       "      <td>0.0</td>\n",
       "      <td>2.067700e+04</td>\n",
       "      <td>0.0</td>\n",
       "      <td>20665.000000</td>\n",
       "      <td>20665.000000</td>\n",
       "      <td>0.0</td>\n",
       "      <td>...</td>\n",
       "      <td>17852.000000</td>\n",
       "      <td>17840.000000</td>\n",
       "      <td>17847.000000</td>\n",
       "      <td>17842.000000</td>\n",
       "      <td>17842.000000</td>\n",
       "      <td>20677.000000</td>\n",
       "      <td>20677.000000</td>\n",
       "      <td>20677.000000</td>\n",
       "      <td>20677.000000</td>\n",
       "      <td>18084.000000</td>\n",
       "    </tr>\n",
       "    <tr>\n",
       "      <th>mean</th>\n",
       "      <td>1.791013e+07</td>\n",
       "      <td>2.019081e+13</td>\n",
       "      <td>NaN</td>\n",
       "      <td>NaN</td>\n",
       "      <td>NaN</td>\n",
       "      <td>5.666981e+07</td>\n",
       "      <td>NaN</td>\n",
       "      <td>7.010888</td>\n",
       "      <td>7.010888</td>\n",
       "      <td>NaN</td>\n",
       "      <td>...</td>\n",
       "      <td>9.469079</td>\n",
       "      <td>9.735762</td>\n",
       "      <td>9.789488</td>\n",
       "      <td>9.476124</td>\n",
       "      <td>9.177054</td>\n",
       "      <td>4.925134</td>\n",
       "      <td>4.492431</td>\n",
       "      <td>0.410988</td>\n",
       "      <td>0.021715</td>\n",
       "      <td>0.987736</td>\n",
       "    </tr>\n",
       "    <tr>\n",
       "      <th>std</th>\n",
       "      <td>1.041987e+07</td>\n",
       "      <td>7.800970e+00</td>\n",
       "      <td>NaN</td>\n",
       "      <td>NaN</td>\n",
       "      <td>NaN</td>\n",
       "      <td>6.812902e+07</td>\n",
       "      <td>NaN</td>\n",
       "      <td>37.729548</td>\n",
       "      <td>37.729548</td>\n",
       "      <td>NaN</td>\n",
       "      <td>...</td>\n",
       "      <td>0.867372</td>\n",
       "      <td>0.654358</td>\n",
       "      <td>0.610074</td>\n",
       "      <td>0.707655</td>\n",
       "      <td>0.808275</td>\n",
       "      <td>22.883678</td>\n",
       "      <td>22.710906</td>\n",
       "      <td>1.082794</td>\n",
       "      <td>0.237805</td>\n",
       "      <td>1.349155</td>\n",
       "    </tr>\n",
       "    <tr>\n",
       "      <th>min</th>\n",
       "      <td>2.818000e+03</td>\n",
       "      <td>2.019081e+13</td>\n",
       "      <td>NaN</td>\n",
       "      <td>NaN</td>\n",
       "      <td>NaN</td>\n",
       "      <td>3.159000e+03</td>\n",
       "      <td>NaN</td>\n",
       "      <td>0.000000</td>\n",
       "      <td>0.000000</td>\n",
       "      <td>NaN</td>\n",
       "      <td>...</td>\n",
       "      <td>2.000000</td>\n",
       "      <td>2.000000</td>\n",
       "      <td>2.000000</td>\n",
       "      <td>2.000000</td>\n",
       "      <td>2.000000</td>\n",
       "      <td>1.000000</td>\n",
       "      <td>0.000000</td>\n",
       "      <td>0.000000</td>\n",
       "      <td>0.000000</td>\n",
       "      <td>0.010000</td>\n",
       "    </tr>\n",
       "    <tr>\n",
       "      <th>25%</th>\n",
       "      <td>9.340207e+06</td>\n",
       "      <td>2.019081e+13</td>\n",
       "      <td>NaN</td>\n",
       "      <td>NaN</td>\n",
       "      <td>NaN</td>\n",
       "      <td>8.795077e+06</td>\n",
       "      <td>NaN</td>\n",
       "      <td>1.000000</td>\n",
       "      <td>1.000000</td>\n",
       "      <td>NaN</td>\n",
       "      <td>...</td>\n",
       "      <td>9.000000</td>\n",
       "      <td>10.000000</td>\n",
       "      <td>10.000000</td>\n",
       "      <td>9.000000</td>\n",
       "      <td>9.000000</td>\n",
       "      <td>1.000000</td>\n",
       "      <td>1.000000</td>\n",
       "      <td>0.000000</td>\n",
       "      <td>0.000000</td>\n",
       "      <td>0.240000</td>\n",
       "    </tr>\n",
       "    <tr>\n",
       "      <th>50%</th>\n",
       "      <td>1.774427e+07</td>\n",
       "      <td>2.019081e+13</td>\n",
       "      <td>NaN</td>\n",
       "      <td>NaN</td>\n",
       "      <td>NaN</td>\n",
       "      <td>2.618942e+07</td>\n",
       "      <td>NaN</td>\n",
       "      <td>1.000000</td>\n",
       "      <td>1.000000</td>\n",
       "      <td>NaN</td>\n",
       "      <td>...</td>\n",
       "      <td>10.000000</td>\n",
       "      <td>10.000000</td>\n",
       "      <td>10.000000</td>\n",
       "      <td>10.000000</td>\n",
       "      <td>9.000000</td>\n",
       "      <td>1.000000</td>\n",
       "      <td>1.000000</td>\n",
       "      <td>0.000000</td>\n",
       "      <td>0.000000</td>\n",
       "      <td>0.540000</td>\n",
       "    </tr>\n",
       "    <tr>\n",
       "      <th>75%</th>\n",
       "      <td>2.601974e+07</td>\n",
       "      <td>2.019081e+13</td>\n",
       "      <td>NaN</td>\n",
       "      <td>NaN</td>\n",
       "      <td>NaN</td>\n",
       "      <td>7.754037e+07</td>\n",
       "      <td>NaN</td>\n",
       "      <td>2.000000</td>\n",
       "      <td>2.000000</td>\n",
       "      <td>NaN</td>\n",
       "      <td>...</td>\n",
       "      <td>10.000000</td>\n",
       "      <td>10.000000</td>\n",
       "      <td>10.000000</td>\n",
       "      <td>10.000000</td>\n",
       "      <td>10.000000</td>\n",
       "      <td>1.000000</td>\n",
       "      <td>1.000000</td>\n",
       "      <td>1.000000</td>\n",
       "      <td>0.000000</td>\n",
       "      <td>1.070000</td>\n",
       "    </tr>\n",
       "    <tr>\n",
       "      <th>max</th>\n",
       "      <td>3.759099e+07</td>\n",
       "      <td>2.019081e+13</td>\n",
       "      <td>NaN</td>\n",
       "      <td>NaN</td>\n",
       "      <td>NaN</td>\n",
       "      <td>2.839422e+08</td>\n",
       "      <td>NaN</td>\n",
       "      <td>980.000000</td>\n",
       "      <td>980.000000</td>\n",
       "      <td>NaN</td>\n",
       "      <td>...</td>\n",
       "      <td>10.000000</td>\n",
       "      <td>10.000000</td>\n",
       "      <td>10.000000</td>\n",
       "      <td>10.000000</td>\n",
       "      <td>10.000000</td>\n",
       "      <td>208.000000</td>\n",
       "      <td>206.000000</td>\n",
       "      <td>15.000000</td>\n",
       "      <td>8.000000</td>\n",
       "      <td>33.670000</td>\n",
       "    </tr>\n",
       "  </tbody>\n",
       "</table>\n",
       "<p>8 rows × 44 columns</p>\n",
       "</div>"
      ],
      "text/plain": [
       "                 id     scrape_id  thumbnail_url  medium_url  xl_picture_url  \\\n",
       "count  2.067700e+04  2.067700e+04            0.0         0.0             0.0   \n",
       "mean   1.791013e+07  2.019081e+13            NaN         NaN             NaN   \n",
       "std    1.041987e+07  7.800970e+00            NaN         NaN             NaN   \n",
       "min    2.818000e+03  2.019081e+13            NaN         NaN             NaN   \n",
       "25%    9.340207e+06  2.019081e+13            NaN         NaN             NaN   \n",
       "50%    1.774427e+07  2.019081e+13            NaN         NaN             NaN   \n",
       "75%    2.601974e+07  2.019081e+13            NaN         NaN             NaN   \n",
       "max    3.759099e+07  2.019081e+13            NaN         NaN             NaN   \n",
       "\n",
       "            host_id  host_acceptance_rate  host_listings_count  \\\n",
       "count  2.067700e+04                   0.0         20665.000000   \n",
       "mean   5.666981e+07                   NaN             7.010888   \n",
       "std    6.812902e+07                   NaN            37.729548   \n",
       "min    3.159000e+03                   NaN             0.000000   \n",
       "25%    8.795077e+06                   NaN             1.000000   \n",
       "50%    2.618942e+07                   NaN             1.000000   \n",
       "75%    7.754037e+07                   NaN             2.000000   \n",
       "max    2.839422e+08                   NaN           980.000000   \n",
       "\n",
       "       host_total_listings_count  neighbourhood_group_cleansed  \\\n",
       "count               20665.000000                           0.0   \n",
       "mean                    7.010888                           NaN   \n",
       "std                    37.729548                           NaN   \n",
       "min                     0.000000                           NaN   \n",
       "25%                     1.000000                           NaN   \n",
       "50%                     1.000000                           NaN   \n",
       "75%                     2.000000                           NaN   \n",
       "max                   980.000000                           NaN   \n",
       "\n",
       "             ...          review_scores_cleanliness  review_scores_checkin  \\\n",
       "count        ...                       17852.000000           17840.000000   \n",
       "mean         ...                           9.469079               9.735762   \n",
       "std          ...                           0.867372               0.654358   \n",
       "min          ...                           2.000000               2.000000   \n",
       "25%          ...                           9.000000              10.000000   \n",
       "50%          ...                          10.000000              10.000000   \n",
       "75%          ...                          10.000000              10.000000   \n",
       "max          ...                          10.000000              10.000000   \n",
       "\n",
       "       review_scores_communication  review_scores_location  \\\n",
       "count                 17847.000000            17842.000000   \n",
       "mean                      9.789488                9.476124   \n",
       "std                       0.610074                0.707655   \n",
       "min                       2.000000                2.000000   \n",
       "25%                      10.000000                9.000000   \n",
       "50%                      10.000000               10.000000   \n",
       "75%                      10.000000               10.000000   \n",
       "max                      10.000000               10.000000   \n",
       "\n",
       "       review_scores_value  calculated_host_listings_count  \\\n",
       "count         17842.000000                    20677.000000   \n",
       "mean              9.177054                        4.925134   \n",
       "std               0.808275                       22.883678   \n",
       "min               2.000000                        1.000000   \n",
       "25%               9.000000                        1.000000   \n",
       "50%               9.000000                        1.000000   \n",
       "75%              10.000000                        1.000000   \n",
       "max              10.000000                      208.000000   \n",
       "\n",
       "       calculated_host_listings_count_entire_homes  \\\n",
       "count                                 20677.000000   \n",
       "mean                                      4.492431   \n",
       "std                                      22.710906   \n",
       "min                                       0.000000   \n",
       "25%                                       1.000000   \n",
       "50%                                       1.000000   \n",
       "75%                                       1.000000   \n",
       "max                                     206.000000   \n",
       "\n",
       "       calculated_host_listings_count_private_rooms  \\\n",
       "count                                  20677.000000   \n",
       "mean                                       0.410988   \n",
       "std                                        1.082794   \n",
       "min                                        0.000000   \n",
       "25%                                        0.000000   \n",
       "50%                                        0.000000   \n",
       "75%                                        1.000000   \n",
       "max                                       15.000000   \n",
       "\n",
       "       calculated_host_listings_count_shared_rooms  reviews_per_month  \n",
       "count                                 20677.000000       18084.000000  \n",
       "mean                                      0.021715           0.987736  \n",
       "std                                       0.237805           1.349155  \n",
       "min                                       0.000000           0.010000  \n",
       "25%                                       0.000000           0.240000  \n",
       "50%                                       0.000000           0.540000  \n",
       "75%                                       0.000000           1.070000  \n",
       "max                                       8.000000          33.670000  \n",
       "\n",
       "[8 rows x 44 columns]"
      ]
     },
     "execution_count": 2,
     "metadata": {},
     "output_type": "execute_result"
    }
   ],
   "source": [
    "data.describe()"
   ]
  },
  {
   "cell_type": "markdown",
   "metadata": {},
   "source": [
    "## Feature Selection "
   ]
  },
  {
   "cell_type": "markdown",
   "metadata": {},
   "source": [
    "There are few features that we can drop as we don't need those features in the analysis as of now . These features include urls, notes, iteraction( NLP is not required in the current analysis process) , hostname  . Manually editing the columns list to drop these columns and listing out those columns that are needed."
   ]
  },
  {
   "cell_type": "code",
   "execution_count": 3,
   "metadata": {},
   "outputs": [
    {
     "name": "stdout",
     "output_type": "stream",
     "text": [
      "50\n"
     ]
    }
   ],
   "source": [
    "# only keep the following features in the dataset\n",
    "cols = ['id', 'host_id', 'host_since', 'last_scraped', 'host_response_time', 'host_response_rate', 'host_acceptance_rate', \n",
    "             'host_is_superhost', \\\n",
    "             'host_identity_verified', 'neighbourhood_cleansed', 'city', 'neighbourhood_group_cleansed', \\\n",
    "             'latitude', 'longitude', 'property_type', 'room_type', 'accommodates', 'bathrooms', \\\n",
    "             'bedrooms', 'beds', 'bed_type', 'amenities', 'square_feet', 'price', 'weekly_price', \\\n",
    "             'monthly_price', 'security_deposit', 'cleaning_fee', 'guests_included', 'extra_people', \\\n",
    "             'minimum_nights', 'maximum_nights', 'has_availability', 'availability_365', 'number_of_reviews', \\\n",
    "             'first_review', 'review_scores_rating', 'review_scores_accuracy', 'review_scores_cleanliness', \\\n",
    "             'review_scores_checkin', 'review_scores_communication', 'review_scores_value', 'requires_license', \\\n",
    "             'license', 'instant_bookable', 'cancellation_policy', 'require_guest_profile_picture', \\\n",
    "             'require_guest_phone_verification', 'calculated_host_listings_count', 'reviews_per_month']\n",
    "cleaned_data = data[cols]\n",
    "\n",
    "print(len(cleaned_data.columns))"
   ]
  },
  {
   "cell_type": "markdown",
   "metadata": {},
   "source": [
    "#### Variables Explanation and Analysis\n",
    "\n",
    "Host related information: host_id, host_identity_verified.\n",
    "\n",
    "Host experience: host_is_superhost, calculated_host_listings_count, host_since\n",
    "\n",
    "Host service : host_response_time, host_response_rate, host_acceptance_rate, etc.\n",
    "\n",
    "Listing information : id, amenities, room_type, neighbourhood, homestay policy, etc.\n",
    "\n",
    "Listing reviews/ratings : number_of_reviews, reviews_per_month, review_scores_rating, etc."
   ]
  },
  {
   "cell_type": "markdown",
   "metadata": {},
   "source": [
    "#### Excluding the listings/entries with missing data  as it will not add any value to the analysis."
   ]
  },
  {
   "cell_type": "code",
   "execution_count": 4,
   "metadata": {},
   "outputs": [
    {
     "data": {
      "text/html": [
       "<div>\n",
       "<style scoped>\n",
       "    .dataframe tbody tr th:only-of-type {\n",
       "        vertical-align: middle;\n",
       "    }\n",
       "\n",
       "    .dataframe tbody tr th {\n",
       "        vertical-align: top;\n",
       "    }\n",
       "\n",
       "    .dataframe thead th {\n",
       "        text-align: right;\n",
       "    }\n",
       "</style>\n",
       "<table border=\"1\" class=\"dataframe\">\n",
       "  <thead>\n",
       "    <tr style=\"text-align: right;\">\n",
       "      <th></th>\n",
       "      <th>id</th>\n",
       "      <th>host_id</th>\n",
       "      <th>host_since</th>\n",
       "      <th>last_scraped</th>\n",
       "      <th>host_response_time</th>\n",
       "      <th>host_response_rate</th>\n",
       "      <th>host_acceptance_rate</th>\n",
       "      <th>host_is_superhost</th>\n",
       "      <th>host_identity_verified</th>\n",
       "      <th>neighbourhood_cleansed</th>\n",
       "      <th>...</th>\n",
       "      <th>review_scores_communication</th>\n",
       "      <th>review_scores_value</th>\n",
       "      <th>requires_license</th>\n",
       "      <th>license</th>\n",
       "      <th>instant_bookable</th>\n",
       "      <th>cancellation_policy</th>\n",
       "      <th>require_guest_profile_picture</th>\n",
       "      <th>require_guest_phone_verification</th>\n",
       "      <th>calculated_host_listings_count</th>\n",
       "      <th>reviews_per_month</th>\n",
       "    </tr>\n",
       "  </thead>\n",
       "  <tbody>\n",
       "    <tr>\n",
       "      <th>0</th>\n",
       "      <td>2818</td>\n",
       "      <td>3159</td>\n",
       "      <td>2008-09-24</td>\n",
       "      <td>2019-08-09</td>\n",
       "      <td>within an hour</td>\n",
       "      <td>100%</td>\n",
       "      <td>NaN</td>\n",
       "      <td>t</td>\n",
       "      <td>f</td>\n",
       "      <td>Oostelijk Havengebied - Indische Buurt</td>\n",
       "      <td>...</td>\n",
       "      <td>10.0</td>\n",
       "      <td>10.0</td>\n",
       "      <td>f</td>\n",
       "      <td>NaN</td>\n",
       "      <td>t</td>\n",
       "      <td>strict_14_with_grace_period</td>\n",
       "      <td>f</td>\n",
       "      <td>f</td>\n",
       "      <td>1</td>\n",
       "      <td>2.12</td>\n",
       "    </tr>\n",
       "    <tr>\n",
       "      <th>1</th>\n",
       "      <td>20168</td>\n",
       "      <td>59484</td>\n",
       "      <td>2009-12-02</td>\n",
       "      <td>2019-08-09</td>\n",
       "      <td>within an hour</td>\n",
       "      <td>100%</td>\n",
       "      <td>NaN</td>\n",
       "      <td>f</td>\n",
       "      <td>f</td>\n",
       "      <td>Centrum-Oost</td>\n",
       "      <td>...</td>\n",
       "      <td>10.0</td>\n",
       "      <td>9.0</td>\n",
       "      <td>f</td>\n",
       "      <td>NaN</td>\n",
       "      <td>f</td>\n",
       "      <td>strict_14_with_grace_period</td>\n",
       "      <td>f</td>\n",
       "      <td>f</td>\n",
       "      <td>2</td>\n",
       "      <td>2.46</td>\n",
       "    </tr>\n",
       "  </tbody>\n",
       "</table>\n",
       "<p>2 rows × 50 columns</p>\n",
       "</div>"
      ],
      "text/plain": [
       "      id  host_id  host_since last_scraped host_response_time  \\\n",
       "0   2818     3159  2008-09-24   2019-08-09     within an hour   \n",
       "1  20168    59484  2009-12-02   2019-08-09     within an hour   \n",
       "\n",
       "  host_response_rate  host_acceptance_rate host_is_superhost  \\\n",
       "0               100%                   NaN                 t   \n",
       "1               100%                   NaN                 f   \n",
       "\n",
       "  host_identity_verified                  neighbourhood_cleansed  \\\n",
       "0                      f  Oostelijk Havengebied - Indische Buurt   \n",
       "1                      f                            Centrum-Oost   \n",
       "\n",
       "         ...         review_scores_communication  review_scores_value  \\\n",
       "0        ...                                10.0                 10.0   \n",
       "1        ...                                10.0                  9.0   \n",
       "\n",
       "   requires_license  license instant_bookable          cancellation_policy  \\\n",
       "0                 f      NaN                t  strict_14_with_grace_period   \n",
       "1                 f      NaN                f  strict_14_with_grace_period   \n",
       "\n",
       "   require_guest_profile_picture  require_guest_phone_verification  \\\n",
       "0                              f                                 f   \n",
       "1                              f                                 f   \n",
       "\n",
       "   calculated_host_listings_count  reviews_per_month  \n",
       "0                               1               2.12  \n",
       "1                               2               2.46  \n",
       "\n",
       "[2 rows x 50 columns]"
      ]
     },
     "execution_count": 4,
     "metadata": {},
     "output_type": "execute_result"
    }
   ],
   "source": [
    "#exclude the listings with 0 for price,beds,bedrooms,accomodates\n",
    "cleaned_data = cleaned_data[cleaned_data.bathrooms >0]\n",
    "cleaned_data = cleaned_data[cleaned_data.bedrooms > 0]\n",
    "cleaned_data = cleaned_data[cleaned_data.beds > 0]\n",
    "cleaned_data = cleaned_data[cleaned_data.review_scores_rating  > 0]\n",
    "cleaned_data = cleaned_data[cleaned_data.reviews_per_month > 0]\n",
    "cleaned_data = cleaned_data[cleaned_data.accommodates  > 0]\n",
    "cleaned_data.head(2)"
   ]
  },
  {
   "cell_type": "markdown",
   "metadata": {},
   "source": [
    "#### Columns with missing values : Drop the columns having all the missing values as it is of no use . "
   ]
  },
  {
   "cell_type": "code",
   "execution_count": 5,
   "metadata": {},
   "outputs": [
    {
     "data": {
      "text/plain": [
       "neighbourhood_group_cleansed    1.000000\n",
       "host_acceptance_rate            1.000000\n",
       "license                         0.999524\n",
       "square_feet                     0.978113\n",
       "monthly_price                   0.924230\n",
       "weekly_price                    0.860354\n",
       "host_response_time              0.395980\n",
       "host_response_rate              0.395980\n",
       "security_deposit                0.268883\n",
       "cleaning_fee                    0.145236\n",
       "dtype: float64"
      ]
     },
     "execution_count": 5,
     "metadata": {},
     "output_type": "execute_result"
    },
    {
     "data": {
      "image/png": "[encoded data removed]",
      "text/plain": [
       "<Figure size 432x288 with 1 Axes>"
      ]
     },
     "metadata": {},
     "output_type": "display_data"
    }
   ],
   "source": [
    "nan_cols = (cleaned_data.isnull().sum()/cleaned_data.shape[0]).sort_values(ascending = False)\n",
    "ax = nan_cols.hist()  \n",
    "ax.set_xlabel(\"% NaN\")\n",
    "ax.set_ylabel(\"Column Count\")\n",
    "nan_cols.head(n=10)"
   ]
  },
  {
   "cell_type": "code",
   "execution_count": null,
   "metadata": {},
   "outputs": [],
   "source": []
  },
  {
   "cell_type": "code",
   "execution_count": 6,
   "metadata": {},
   "outputs": [],
   "source": [
    "# drop columns with NaN values\n",
    "cleaned_data = cleaned_data.drop(labels = ['license', 'square_feet', 'monthly_price', 'weekly_price', \\\n",
    "                                           'has_availability', 'neighbourhood_group_cleansed',\\\n",
    "                                           'host_acceptance_rate','host_response_time','host_response_rate',\\\n",
    "                                          'security_deposit','cleaning_fee'], axis = 1)"
   ]
  },
  {
   "cell_type": "code",
   "execution_count": 7,
   "metadata": {},
   "outputs": [
    {
     "data": {
      "text/html": [
       "<div>\n",
       "<style scoped>\n",
       "    .dataframe tbody tr th:only-of-type {\n",
       "        vertical-align: middle;\n",
       "    }\n",
       "\n",
       "    .dataframe tbody tr th {\n",
       "        vertical-align: top;\n",
       "    }\n",
       "\n",
       "    .dataframe thead th {\n",
       "        text-align: right;\n",
       "    }\n",
       "</style>\n",
       "<table border=\"1\" class=\"dataframe\">\n",
       "  <thead>\n",
       "    <tr style=\"text-align: right;\">\n",
       "      <th></th>\n",
       "      <th>room_type</th>\n",
       "      <th>number_of_listings</th>\n",
       "    </tr>\n",
       "  </thead>\n",
       "  <tbody>\n",
       "    <tr>\n",
       "      <th>0</th>\n",
       "      <td>Entire home/apt</td>\n",
       "      <td>13391</td>\n",
       "    </tr>\n",
       "    <tr>\n",
       "      <th>1</th>\n",
       "      <td>Private room</td>\n",
       "      <td>3357</td>\n",
       "    </tr>\n",
       "    <tr>\n",
       "      <th>2</th>\n",
       "      <td>Shared room</td>\n",
       "      <td>66</td>\n",
       "    </tr>\n",
       "  </tbody>\n",
       "</table>\n",
       "</div>"
      ],
      "text/plain": [
       "         room_type  number_of_listings\n",
       "0  Entire home/apt               13391\n",
       "1     Private room                3357\n",
       "2      Shared room                  66"
      ]
     },
     "execution_count": 7,
     "metadata": {},
     "output_type": "execute_result"
    }
   ],
   "source": [
    "room_type_df = cleaned_data.groupby('room_type').id.count()\n",
    "room_type_df = room_type_df.reset_index()\n",
    "room_type_df = room_type_df.rename(columns={'id': 'number_of_listings'})\n",
    "room_type_df"
   ]
  },
  {
   "cell_type": "code",
   "execution_count": 8,
   "metadata": {},
   "outputs": [],
   "source": [
    "cleaned_data.price = cleaned_data.price.str.lstrip('$').str.replace(',', '')\n",
    "cleaned_data.price = cleaned_data.price.astype('float')"
   ]
  },
  {
   "cell_type": "code",
   "execution_count": 9,
   "metadata": {},
   "outputs": [
    {
     "data": {
      "text/html": [
       "<div>\n",
       "<style scoped>\n",
       "    .dataframe tbody tr th:only-of-type {\n",
       "        vertical-align: middle;\n",
       "    }\n",
       "\n",
       "    .dataframe tbody tr th {\n",
       "        vertical-align: top;\n",
       "    }\n",
       "\n",
       "    .dataframe thead th {\n",
       "        text-align: right;\n",
       "    }\n",
       "</style>\n",
       "<table border=\"1\" class=\"dataframe\">\n",
       "  <thead>\n",
       "    <tr style=\"text-align: right;\">\n",
       "      <th></th>\n",
       "      <th>room_type</th>\n",
       "      <th>average_Price</th>\n",
       "    </tr>\n",
       "  </thead>\n",
       "  <tbody>\n",
       "    <tr>\n",
       "      <th>0</th>\n",
       "      <td>Entire home/apt</td>\n",
       "      <td>168.508476</td>\n",
       "    </tr>\n",
       "    <tr>\n",
       "      <th>1</th>\n",
       "      <td>Private room</td>\n",
       "      <td>103.831099</td>\n",
       "    </tr>\n",
       "    <tr>\n",
       "      <th>2</th>\n",
       "      <td>Shared room</td>\n",
       "      <td>180.287879</td>\n",
       "    </tr>\n",
       "  </tbody>\n",
       "</table>\n",
       "</div>"
      ],
      "text/plain": [
       "         room_type  average_Price\n",
       "0  Entire home/apt     168.508476\n",
       "1     Private room     103.831099\n",
       "2      Shared room     180.287879"
      ]
     },
     "execution_count": 9,
     "metadata": {},
     "output_type": "execute_result"
    }
   ],
   "source": [
    "# Average prices for each type of listing\n",
    "\n",
    "avgPrice=cleaned_data.groupby('room_type').price.mean()\n",
    "avgPrice=avgPrice.reset_index()\n",
    "avgPrice=avgPrice.rename(columns={'price':'average_Price'})\n",
    "avgPrice"
   ]
  },
  {
   "cell_type": "markdown",
   "metadata": {},
   "source": [
    "# Analysis - 1 \n"
   ]
  },
  {
   "cell_type": "markdown",
   "metadata": {},
   "source": [
    "### Case study : Where to invest in airbnb property and what type of property to invest in (Amesterdam) to get maximum profit ? "
   ]
  },
  {
   "cell_type": "markdown",
   "metadata": {},
   "source": [
    "#### Case 1: It can be seen below with the analysis that people prefer renting entire home/apartment instead of a shared room and this room type is expensive over other type of rooms.  \n",
    "\n",
    "As per the data , renting frequency of entire apartment/house is maximum than other property type. Investing in that would be more profitable considering the average renting price and average renting frequency.\n",
    "\n",
    "\n",
    "\n"
   ]
  },
  {
   "cell_type": "code",
   "execution_count": 10,
   "metadata": {},
   "outputs": [
    {
     "data": {
      "image/png": "[encoded data removed]",
      "text/plain": [
       "<Figure size 360x360 with 1 Axes>"
      ]
     },
     "metadata": {},
     "output_type": "display_data"
    }
   ],
   "source": [
    "import matplotlib\n",
    "import matplotlib.pyplot as plt\n",
    "room_type_count = cleaned_data.room_type.value_counts()\n",
    "room_type_count.plot.pie(figsize=(5, 5), fontsize = 20, autopct = '%.2f', title = 'Room Type Distribution');"
   ]
  },
  {
   "cell_type": "code",
   "execution_count": 11,
   "metadata": {},
   "outputs": [
    {
     "data": {
      "text/plain": [
       "Apartment                 13009\n",
       "House                      1325\n",
       "Townhouse                   546\n",
       "Bed and breakfast           428\n",
       "Loft                        323\n",
       "Boat                        284\n",
       "Condominium                 247\n",
       "Houseboat                   245\n",
       "Guest suite                 110\n",
       "Aparthotel                   55\n",
       "Serviced apartment           46\n",
       "Guesthouse                   35\n",
       "Villa                        33\n",
       "Boutique hotel               31\n",
       "Other                        23\n",
       "Hostel                       19\n",
       "Hotel                        14\n",
       "Cottage                       9\n",
       "Tiny house                    8\n",
       "Cabin                         6\n",
       "Bungalow                      3\n",
       "Barn                          2\n",
       "Chalet                        2\n",
       "Casa particular (Cuba)        2\n",
       "Dome house                    1\n",
       "Tent                          1\n",
       "Camper/RV                     1\n",
       "Nature lodge                  1\n",
       "Castle                        1\n",
       "Earth house                   1\n",
       "Campsite                      1\n",
       "Lighthouse                    1\n",
       "Hut                           1\n",
       "Name: property_type, dtype: int64"
      ]
     },
     "execution_count": 11,
     "metadata": {},
     "output_type": "execute_result"
    }
   ],
   "source": [
    "cleaned_data = cleaned_data[cleaned_data.property_type != 0]\n",
    "# number of listings based on the property type\n",
    "property_type_count = cleaned_data.property_type.value_counts()\n",
    "\n",
    "property_type_count"
   ]
  },
  {
   "cell_type": "markdown",
   "metadata": {},
   "source": [
    "### Conclusion 1 : As per the listing , avg listing price and frequency of renting it is evident that renting entire apartment and house would be considered as a good investment."
   ]
  },
  {
   "cell_type": "code",
   "execution_count": 12,
   "metadata": {},
   "outputs": [
    {
     "data": {
      "image/png": "[encoded data removed]",
      "text/plain": [
       "<Figure size 720x360 with 1 Axes>"
      ]
     },
     "metadata": {},
     "output_type": "display_data"
    }
   ],
   "source": [
    "\n",
    "import matplotlib.pyplot as plt \n",
    "\n",
    "property_type_count.plot.bar(color = 'red', figsize =(10,5), title = 'Amesterdam Property Type Frequency')\n",
    "plt.xlabel=\"Property type\"\n",
    "plt.ylabel=\"Number of listings\"\n"
   ]
  },
  {
   "cell_type": "markdown",
   "metadata": {},
   "source": [
    "### Conclusion 2 : Below graph shows that neighbourhood with the maximum mean prices are Centrum-Oost and Centrum-West . Having an entire apartment rented in these areas would give maximum profit."
   ]
  },
  {
   "cell_type": "code",
   "execution_count": 13,
   "metadata": {},
   "outputs": [
    {
     "data": {
      "text/plain": [
       "neighbourhood_cleansed\n",
       "Bijlmer-Centrum                            98.746479\n",
       "Bijlmer-Oost                               88.797872\n",
       "Bos en Lommer                             122.192857\n",
       "Buitenveldert - Zuidas                    143.175258\n",
       "Centrum-Oost                              188.521429\n",
       "Centrum-West                              198.306762\n",
       "De Aker - Nieuw Sloten                    124.954955\n",
       "De Baarsjes - Oud-West                    147.461718\n",
       "De Pijp - Rivierenbuurt                   162.945342\n",
       "Gaasperdam - Driemond                      96.371901\n",
       "Geuzenveld - Slotermeer                   112.426136\n",
       "IJburg - Zeeburgereiland                  163.473822\n",
       "Noord-Oost                                120.982684\n",
       "Noord-West                                126.418367\n",
       "Oostelijk Havengebied - Indische Buurt    132.797834\n",
       "Osdorp                                     99.081301\n",
       "Oud-Noord                                 161.795635\n",
       "Oud-Oost                                  143.519720\n",
       "Slotervaart                               119.966767\n",
       "Watergraafsmeer                           144.239899\n",
       "Westerpark                                147.721412\n",
       "Zuid                                      177.392857\n",
       "Name: price, dtype: float64"
      ]
     },
     "execution_count": 13,
     "metadata": {},
     "output_type": "execute_result"
    }
   ],
   "source": [
    "\n",
    "# average price of listings w.r.t neighbourhood\n",
    "price_per_neighbourhood = cleaned_data.groupby('neighbourhood_cleansed').price.mean()\n",
    "\n",
    "\n",
    "price_per_neighbourhood"
   ]
  },
  {
   "cell_type": "code",
   "execution_count": 14,
   "metadata": {},
   "outputs": [
    {
     "data": {
      "image/png": "[encoded data removed]",
      "text/plain": [
       "<Figure size 720x360 with 1 Axes>"
      ]
     },
     "metadata": {},
     "output_type": "display_data"
    }
   ],
   "source": [
    "# plot a graph that depicts a relation between neighbourhood and price\n",
    "price_per_neighbourhood.plot.bar(color = 'blue', figsize =(10,5), title = 'Neighbourhood vs Average Price Chart')\n",
    "\n",
    "plt.xlabel='Neighbourhoods'\n",
    "plt.ylabel='Average Price'"
   ]
  },
  {
   "cell_type": "code",
   "execution_count": 15,
   "metadata": {},
   "outputs": [
    {
     "data": {
      "text/html": [
       "<div>\n",
       "<style scoped>\n",
       "    .dataframe tbody tr th:only-of-type {\n",
       "        vertical-align: middle;\n",
       "    }\n",
       "\n",
       "    .dataframe tbody tr th {\n",
       "        vertical-align: top;\n",
       "    }\n",
       "\n",
       "    .dataframe thead th {\n",
       "        text-align: right;\n",
       "    }\n",
       "</style>\n",
       "<table border=\"1\" class=\"dataframe\">\n",
       "  <thead>\n",
       "    <tr style=\"text-align: right;\">\n",
       "      <th></th>\n",
       "      <th>neighbourhood_cleansed</th>\n",
       "      <th>Number_Of_Listings</th>\n",
       "    </tr>\n",
       "  </thead>\n",
       "  <tbody>\n",
       "    <tr>\n",
       "      <th>7</th>\n",
       "      <td>De Baarsjes - Oud-West</td>\n",
       "      <td>2530</td>\n",
       "    </tr>\n",
       "    <tr>\n",
       "      <th>8</th>\n",
       "      <td>De Pijp - Rivierenbuurt</td>\n",
       "      <td>1787</td>\n",
       "    </tr>\n",
       "    <tr>\n",
       "      <th>5</th>\n",
       "      <td>Centrum-West</td>\n",
       "      <td>1302</td>\n",
       "    </tr>\n",
       "    <tr>\n",
       "      <th>20</th>\n",
       "      <td>Westerpark</td>\n",
       "      <td>1146</td>\n",
       "    </tr>\n",
       "    <tr>\n",
       "      <th>4</th>\n",
       "      <td>Centrum-Oost</td>\n",
       "      <td>1060</td>\n",
       "    </tr>\n",
       "  </tbody>\n",
       "</table>\n",
       "</div>"
      ],
      "text/plain": [
       "     neighbourhood_cleansed  Number_Of_Listings\n",
       "7    De Baarsjes - Oud-West                2530\n",
       "8   De Pijp - Rivierenbuurt                1787\n",
       "5              Centrum-West                1302\n",
       "20               Westerpark                1146\n",
       "4              Centrum-Oost                1060"
      ]
     },
     "execution_count": 15,
     "metadata": {},
     "output_type": "execute_result"
    }
   ],
   "source": [
    "home = cleaned_data[(cleaned_data.room_type == 'Entire home/apt')]\n",
    "\n",
    "# grouping neighbourhood by number of listings\n",
    "\n",
    "neighbourhood_DF=home.groupby('neighbourhood_cleansed').id.count()\n",
    "neighbourhood_DF=neighbourhood_DF.reset_index()\n",
    "neighbourhood_DF=neighbourhood_DF.rename(columns={'id':'Number_Of_Listings'})\n",
    "neighbourhood_DF=neighbourhood_DF.sort_values('Number_Of_Listings',ascending=[0])\n",
    "neighbourhood_DF.head()"
   ]
  },
  {
   "cell_type": "code",
   "execution_count": 16,
   "metadata": {},
   "outputs": [
    {
     "data": {
      "text/html": [
       "<div>\n",
       "<style scoped>\n",
       "    .dataframe tbody tr th:only-of-type {\n",
       "        vertical-align: middle;\n",
       "    }\n",
       "\n",
       "    .dataframe tbody tr th {\n",
       "        vertical-align: top;\n",
       "    }\n",
       "\n",
       "    .dataframe thead th {\n",
       "        text-align: right;\n",
       "    }\n",
       "</style>\n",
       "<table border=\"1\" class=\"dataframe\">\n",
       "  <thead>\n",
       "    <tr style=\"text-align: right;\">\n",
       "      <th></th>\n",
       "      <th>neighbourhood_cleansed</th>\n",
       "      <th>Average_Price</th>\n",
       "    </tr>\n",
       "  </thead>\n",
       "  <tbody>\n",
       "    <tr>\n",
       "      <th>5</th>\n",
       "      <td>Centrum-West</td>\n",
       "      <td>220.523810</td>\n",
       "    </tr>\n",
       "    <tr>\n",
       "      <th>4</th>\n",
       "      <td>Centrum-Oost</td>\n",
       "      <td>206.152830</td>\n",
       "    </tr>\n",
       "    <tr>\n",
       "      <th>21</th>\n",
       "      <td>Zuid</td>\n",
       "      <td>188.914172</td>\n",
       "    </tr>\n",
       "    <tr>\n",
       "      <th>11</th>\n",
       "      <td>IJburg - Zeeburgereiland</td>\n",
       "      <td>184.270548</td>\n",
       "    </tr>\n",
       "    <tr>\n",
       "      <th>8</th>\n",
       "      <td>De Pijp - Rivierenbuurt</td>\n",
       "      <td>173.440963</td>\n",
       "    </tr>\n",
       "  </tbody>\n",
       "</table>\n",
       "</div>"
      ],
      "text/plain": [
       "      neighbourhood_cleansed  Average_Price\n",
       "5               Centrum-West     220.523810\n",
       "4               Centrum-Oost     206.152830\n",
       "21                      Zuid     188.914172\n",
       "11  IJburg - Zeeburgereiland     184.270548\n",
       "8    De Pijp - Rivierenbuurt     173.440963"
      ]
     },
     "execution_count": 16,
     "metadata": {},
     "output_type": "execute_result"
    }
   ],
   "source": [
    "\n",
    "# grouping neighbourhood by average price of listings\n",
    "\n",
    "neighbourhoodPrice_DF=home.groupby('neighbourhood_cleansed').price.mean()\n",
    "neighbourhoodPrice_DF=neighbourhoodPrice_DF.reset_index()\n",
    "neighbourhoodPrice_DF=neighbourhoodPrice_DF.rename(columns={'price':'Average_Price'})\n",
    "neighbourhoodPrice_DF=neighbourhoodPrice_DF.sort_values('Average_Price',ascending=[0])\n",
    "neighbourhoodPrice_DF.head()"
   ]
  },
  {
   "cell_type": "code",
   "execution_count": 17,
   "metadata": {},
   "outputs": [
    {
     "data": {
      "text/html": [
       "<div>\n",
       "<style scoped>\n",
       "    .dataframe tbody tr th:only-of-type {\n",
       "        vertical-align: middle;\n",
       "    }\n",
       "\n",
       "    .dataframe tbody tr th {\n",
       "        vertical-align: top;\n",
       "    }\n",
       "\n",
       "    .dataframe thead th {\n",
       "        text-align: right;\n",
       "    }\n",
       "</style>\n",
       "<table border=\"1\" class=\"dataframe\">\n",
       "  <thead>\n",
       "    <tr style=\"text-align: right;\">\n",
       "      <th></th>\n",
       "      <th>neighbourhood_cleansed</th>\n",
       "      <th>Number_Of_Listings</th>\n",
       "      <th>Average_Price</th>\n",
       "    </tr>\n",
       "  </thead>\n",
       "  <tbody>\n",
       "    <tr>\n",
       "      <th>0</th>\n",
       "      <td>De Baarsjes - Oud-West</td>\n",
       "      <td>2530</td>\n",
       "      <td>157.592490</td>\n",
       "    </tr>\n",
       "    <tr>\n",
       "      <th>1</th>\n",
       "      <td>De Pijp - Rivierenbuurt</td>\n",
       "      <td>1787</td>\n",
       "      <td>173.440963</td>\n",
       "    </tr>\n",
       "    <tr>\n",
       "      <th>2</th>\n",
       "      <td>Centrum-West</td>\n",
       "      <td>1302</td>\n",
       "      <td>220.523810</td>\n",
       "    </tr>\n",
       "    <tr>\n",
       "      <th>3</th>\n",
       "      <td>Westerpark</td>\n",
       "      <td>1146</td>\n",
       "      <td>155.002618</td>\n",
       "    </tr>\n",
       "    <tr>\n",
       "      <th>4</th>\n",
       "      <td>Centrum-Oost</td>\n",
       "      <td>1060</td>\n",
       "      <td>206.152830</td>\n",
       "    </tr>\n",
       "  </tbody>\n",
       "</table>\n",
       "</div>"
      ],
      "text/plain": [
       "    neighbourhood_cleansed  Number_Of_Listings  Average_Price\n",
       "0   De Baarsjes - Oud-West                2530     157.592490\n",
       "1  De Pijp - Rivierenbuurt                1787     173.440963\n",
       "2             Centrum-West                1302     220.523810\n",
       "3               Westerpark                1146     155.002618\n",
       "4             Centrum-Oost                1060     206.152830"
      ]
     },
     "execution_count": 17,
     "metadata": {},
     "output_type": "execute_result"
    }
   ],
   "source": [
    "#Merging above two dataframes\n",
    "\n",
    "mergeDF=pd.merge(neighbourhood_DF,neighbourhoodPrice_DF,on='neighbourhood_cleansed')\n",
    "mergeDF.head()"
   ]
  },
  {
   "cell_type": "code",
   "execution_count": 18,
   "metadata": {},
   "outputs": [
    {
     "data": {
      "text/plain": [
       "<matplotlib.axes._subplots.AxesSubplot at 0x1a278570f0>"
      ]
     },
     "execution_count": 18,
     "metadata": {},
     "output_type": "execute_result"
    },
    {
     "data": {
      "image/png": "[encoded data removed]",
      "text/plain": [
       "<Figure size 1080x576 with 1 Axes>"
      ]
     },
     "metadata": {},
     "output_type": "display_data"
    }
   ],
   "source": [
    "# visualizing the frequency of listings on the basis of neighbourhood where room type is entire apartment\n",
    "\n",
    "%matplotlib inline\n",
    "\n",
    "import matplotlib\n",
    "import matplotlib.pyplot as plt\n",
    "matplotlib.style.use('ggplot')\n",
    "\n",
    "objects = neighbourhood_DF['neighbourhood_cleansed']\n",
    "y_pos = neighbourhood_DF['Number_Of_Listings']\n",
    "\n",
    "neighbourhood_DF.plot(kind='bar', \n",
    "           x='neighbourhood_cleansed',\n",
    "           y='Number_Of_Listings',\n",
    "           color = '#66c2ff', \n",
    "           figsize =(15,8), \n",
    "           title = 'Neighborhood rental Frequency for Entire Apartment/House', \n",
    "           legend = False)\n"
   ]
  },
  {
   "cell_type": "code",
   "execution_count": 19,
   "metadata": {},
   "outputs": [
    {
     "data": {
      "text/plain": [
       "Index(['host_since', 'last_scraped', 'host_is_superhost',\n",
       "       'host_identity_verified', 'neighbourhood_cleansed', 'city',\n",
       "       'property_type', 'room_type', 'bed_type', 'amenities', 'extra_people',\n",
       "       'first_review', 'requires_license', 'instant_bookable',\n",
       "       'cancellation_policy', 'require_guest_profile_picture',\n",
       "       'require_guest_phone_verification'],\n",
       "      dtype='object')"
      ]
     },
     "execution_count": 19,
     "metadata": {},
     "output_type": "execute_result"
    }
   ],
   "source": [
    "cleaned_data.select_dtypes(include=['object']).columns"
   ]
  },
  {
   "cell_type": "code",
   "execution_count": 20,
   "metadata": {},
   "outputs": [
    {
     "data": {
      "text/plain": [
       "Index(['latitude', 'longitude', 'bathrooms', 'bedrooms', 'beds', 'price',\n",
       "       'review_scores_rating', 'review_scores_accuracy',\n",
       "       'review_scores_cleanliness', 'review_scores_checkin',\n",
       "       'review_scores_communication', 'review_scores_value',\n",
       "       'reviews_per_month'],\n",
       "      dtype='object')"
      ]
     },
     "execution_count": 20,
     "metadata": {},
     "output_type": "execute_result"
    }
   ],
   "source": [
    "cleaned_data.select_dtypes(include=['float64']).columns"
   ]
  },
  {
   "cell_type": "markdown",
   "metadata": {},
   "source": [
    "# Analysis - 2 : Season vs Price -  How season affects Rental prices of the property."
   ]
  },
  {
   "cell_type": "code",
   "execution_count": 21,
   "metadata": {},
   "outputs": [
    {
     "data": {
      "text/html": [
       "<div>\n",
       "<style scoped>\n",
       "    .dataframe tbody tr th:only-of-type {\n",
       "        vertical-align: middle;\n",
       "    }\n",
       "\n",
       "    .dataframe tbody tr th {\n",
       "        vertical-align: top;\n",
       "    }\n",
       "\n",
       "    .dataframe thead th {\n",
       "        text-align: right;\n",
       "    }\n",
       "</style>\n",
       "<table border=\"1\" class=\"dataframe\">\n",
       "  <thead>\n",
       "    <tr style=\"text-align: right;\">\n",
       "      <th></th>\n",
       "      <th>listing_id</th>\n",
       "      <th>date</th>\n",
       "      <th>available</th>\n",
       "      <th>price</th>\n",
       "      <th>adjusted_price</th>\n",
       "      <th>minimum_nights</th>\n",
       "      <th>maximum_nights</th>\n",
       "    </tr>\n",
       "  </thead>\n",
       "  <tbody>\n",
       "    <tr>\n",
       "      <th>0</th>\n",
       "      <td>2818</td>\n",
       "      <td>2019-12-08</td>\n",
       "      <td>f</td>\n",
       "      <td>$51.00</td>\n",
       "      <td>$51.00</td>\n",
       "      <td>3.0</td>\n",
       "      <td>1125.0</td>\n",
       "    </tr>\n",
       "    <tr>\n",
       "      <th>1</th>\n",
       "      <td>58211</td>\n",
       "      <td>2019-12-08</td>\n",
       "      <td>t</td>\n",
       "      <td>$175.00</td>\n",
       "      <td>$175.00</td>\n",
       "      <td>3.0</td>\n",
       "      <td>365.0</td>\n",
       "    </tr>\n",
       "    <tr>\n",
       "      <th>2</th>\n",
       "      <td>58211</td>\n",
       "      <td>2019-12-09</td>\n",
       "      <td>t</td>\n",
       "      <td>$175.00</td>\n",
       "      <td>$175.00</td>\n",
       "      <td>3.0</td>\n",
       "      <td>365.0</td>\n",
       "    </tr>\n",
       "    <tr>\n",
       "      <th>3</th>\n",
       "      <td>58211</td>\n",
       "      <td>2019-12-10</td>\n",
       "      <td>t</td>\n",
       "      <td>$175.00</td>\n",
       "      <td>$175.00</td>\n",
       "      <td>2.0</td>\n",
       "      <td>365.0</td>\n",
       "    </tr>\n",
       "    <tr>\n",
       "      <th>4</th>\n",
       "      <td>58211</td>\n",
       "      <td>2019-12-11</td>\n",
       "      <td>t</td>\n",
       "      <td>$175.00</td>\n",
       "      <td>$175.00</td>\n",
       "      <td>2.0</td>\n",
       "      <td>365.0</td>\n",
       "    </tr>\n",
       "  </tbody>\n",
       "</table>\n",
       "</div>"
      ],
      "text/plain": [
       "   listing_id        date available    price adjusted_price  minimum_nights  \\\n",
       "0        2818  2019-12-08         f   $51.00         $51.00             3.0   \n",
       "1       58211  2019-12-08         t  $175.00        $175.00             3.0   \n",
       "2       58211  2019-12-09         t  $175.00        $175.00             3.0   \n",
       "3       58211  2019-12-10         t  $175.00        $175.00             2.0   \n",
       "4       58211  2019-12-11         t  $175.00        $175.00             2.0   \n",
       "\n",
       "   maximum_nights  \n",
       "0          1125.0  \n",
       "1           365.0  \n",
       "2           365.0  \n",
       "3           365.0  \n",
       "4           365.0  "
      ]
     },
     "execution_count": 21,
     "metadata": {},
     "output_type": "execute_result"
    }
   ],
   "source": [
    "calendar_data = pd.read_csv(\"/Users/rohini/Downloads/calendar.csv\")\n",
    "calendar_data.head(5)"
   ]
  },
  {
   "cell_type": "code",
   "execution_count": 22,
   "metadata": {},
   "outputs": [],
   "source": [
    "calendar_data.price = calendar_data.price.str.lstrip('$').str.replace(',', '')\n",
    "calendar_data.price = calendar_data.price.astype('float')\n",
    "\n",
    "calendar_data.adjusted_price = calendar_data.adjusted_price.str.lstrip('$').str.replace(',', '')\n",
    "calendar_data.adjusted_price = calendar_data.adjusted_price.astype('float')"
   ]
  },
  {
   "cell_type": "code",
   "execution_count": 23,
   "metadata": {},
   "outputs": [
    {
     "data": {
      "text/plain": [
       "0     51.0\n",
       "1    175.0\n",
       "2    175.0\n",
       "3    175.0\n",
       "4    175.0\n",
       "Name: price, dtype: float64"
      ]
     },
     "execution_count": 23,
     "metadata": {},
     "output_type": "execute_result"
    }
   ],
   "source": [
    "calendar_data.price.head(5)"
   ]
  },
  {
   "cell_type": "code",
   "execution_count": 24,
   "metadata": {},
   "outputs": [
    {
     "data": {
      "text/html": [
       "<div>\n",
       "<style scoped>\n",
       "    .dataframe tbody tr th:only-of-type {\n",
       "        vertical-align: middle;\n",
       "    }\n",
       "\n",
       "    .dataframe tbody tr th {\n",
       "        vertical-align: top;\n",
       "    }\n",
       "\n",
       "    .dataframe thead th {\n",
       "        text-align: right;\n",
       "    }\n",
       "</style>\n",
       "<table border=\"1\" class=\"dataframe\">\n",
       "  <thead>\n",
       "    <tr style=\"text-align: right;\">\n",
       "      <th></th>\n",
       "      <th>listing_id</th>\n",
       "      <th>date</th>\n",
       "      <th>available</th>\n",
       "      <th>price</th>\n",
       "      <th>adjusted_price</th>\n",
       "      <th>minimum_nights</th>\n",
       "      <th>maximum_nights</th>\n",
       "      <th>Year</th>\n",
       "      <th>Month</th>\n",
       "      <th>Day</th>\n",
       "    </tr>\n",
       "  </thead>\n",
       "  <tbody>\n",
       "    <tr>\n",
       "      <th>0</th>\n",
       "      <td>2818</td>\n",
       "      <td>2019-12-08</td>\n",
       "      <td>f</td>\n",
       "      <td>51.0</td>\n",
       "      <td>51.0</td>\n",
       "      <td>3.0</td>\n",
       "      <td>1125.0</td>\n",
       "      <td>2019</td>\n",
       "      <td>12</td>\n",
       "      <td>08</td>\n",
       "    </tr>\n",
       "    <tr>\n",
       "      <th>1</th>\n",
       "      <td>58211</td>\n",
       "      <td>2019-12-08</td>\n",
       "      <td>t</td>\n",
       "      <td>175.0</td>\n",
       "      <td>175.0</td>\n",
       "      <td>3.0</td>\n",
       "      <td>365.0</td>\n",
       "      <td>2019</td>\n",
       "      <td>12</td>\n",
       "      <td>08</td>\n",
       "    </tr>\n",
       "    <tr>\n",
       "      <th>2</th>\n",
       "      <td>58211</td>\n",
       "      <td>2019-12-09</td>\n",
       "      <td>t</td>\n",
       "      <td>175.0</td>\n",
       "      <td>175.0</td>\n",
       "      <td>3.0</td>\n",
       "      <td>365.0</td>\n",
       "      <td>2019</td>\n",
       "      <td>12</td>\n",
       "      <td>09</td>\n",
       "    </tr>\n",
       "    <tr>\n",
       "      <th>3</th>\n",
       "      <td>58211</td>\n",
       "      <td>2019-12-10</td>\n",
       "      <td>t</td>\n",
       "      <td>175.0</td>\n",
       "      <td>175.0</td>\n",
       "      <td>2.0</td>\n",
       "      <td>365.0</td>\n",
       "      <td>2019</td>\n",
       "      <td>12</td>\n",
       "      <td>10</td>\n",
       "    </tr>\n",
       "    <tr>\n",
       "      <th>4</th>\n",
       "      <td>58211</td>\n",
       "      <td>2019-12-11</td>\n",
       "      <td>t</td>\n",
       "      <td>175.0</td>\n",
       "      <td>175.0</td>\n",
       "      <td>2.0</td>\n",
       "      <td>365.0</td>\n",
       "      <td>2019</td>\n",
       "      <td>12</td>\n",
       "      <td>11</td>\n",
       "    </tr>\n",
       "  </tbody>\n",
       "</table>\n",
       "</div>"
      ],
      "text/plain": [
       "   listing_id        date available  price  adjusted_price  minimum_nights  \\\n",
       "0        2818  2019-12-08         f   51.0            51.0             3.0   \n",
       "1       58211  2019-12-08         t  175.0           175.0             3.0   \n",
       "2       58211  2019-12-09         t  175.0           175.0             3.0   \n",
       "3       58211  2019-12-10         t  175.0           175.0             2.0   \n",
       "4       58211  2019-12-11         t  175.0           175.0             2.0   \n",
       "\n",
       "   maximum_nights  Year Month Day  \n",
       "0          1125.0  2019    12  08  \n",
       "1           365.0  2019    12  08  \n",
       "2           365.0  2019    12  09  \n",
       "3           365.0  2019    12  10  \n",
       "4           365.0  2019    12  11  "
      ]
     },
     "execution_count": 24,
     "metadata": {},
     "output_type": "execute_result"
    }
   ],
   "source": [
    "#separating date column into day month and year\n",
    "calendar_data['Year'],calendar_data['Month'],calendar_data['Day']=calendar_data['date'].str.split('-',2).str\n",
    "calendar_data.head()"
   ]
  },
  {
   "cell_type": "code",
   "execution_count": 25,
   "metadata": {},
   "outputs": [
    {
     "data": {
      "text/plain": [
       "Year  Month\n",
       "2019  12       165.688095\n",
       "2020  01       163.038946\n",
       "      02       162.969920\n",
       "      03       164.983326\n",
       "      04       170.557936\n",
       "      05       172.921901\n",
       "      06       171.377884\n",
       "      07       170.673381\n",
       "      08       170.965564\n",
       "      09       171.480072\n",
       "      10       171.658669\n",
       "      11       170.552353\n",
       "      12       170.582267\n",
       "Name: price, dtype: float64"
      ]
     },
     "execution_count": 25,
     "metadata": {},
     "output_type": "execute_result"
    }
   ],
   "source": [
    "\n",
    "year_data=calendar_data.groupby(['Year','Month']).price.mean()\n",
    "\n",
    "year_data.head(15)"
   ]
  },
  {
   "cell_type": "markdown",
   "metadata": {},
   "source": [
    "## As per the plot (year-Month vs price) -  The prices are maximum during May and June but it seems like there is not much difference in the prices all around the year as it is a popular tourist place. "
   ]
  },
  {
   "cell_type": "code",
   "execution_count": 26,
   "metadata": {},
   "outputs": [
    {
     "data": {
      "text/plain": [
       "<matplotlib.axes._subplots.AxesSubplot at 0x1a2783f128>"
      ]
     },
     "execution_count": 26,
     "metadata": {},
     "output_type": "execute_result"
    },
    {
     "data": {
      "image/png": "[encoded data removed]",
      "text/plain": [
       "<Figure size 1080x576 with 1 Axes>"
      ]
     },
     "metadata": {},
     "output_type": "display_data"
    }
   ],
   "source": [
    "# visualizing the trend of year/Month and average prices of the listing\n",
    "\n",
    "%matplotlib inline\n",
    "\n",
    "import matplotlib\n",
    "import matplotlib.pyplot as plt\n",
    "matplotlib.style.use('ggplot')\n",
    "\n",
    "\n",
    "year_data.plot(kind='bar', \n",
    "           x='year-Month',\n",
    "           y='price',\n",
    "           color = 'red', \n",
    "           figsize =(15,8), \n",
    "           title = 'Amsterdam Airbnb prices trend over months', \n",
    "           legend = False)\n",
    "#plt.ylabel('Average Price')"
   ]
  },
  {
   "cell_type": "markdown",
   "metadata": {},
   "source": [
    "# Analysis - 3 : Cleaning data and applying different Machine Learning algorithmns"
   ]
  },
  {
   "cell_type": "code",
   "execution_count": 27,
   "metadata": {},
   "outputs": [
    {
     "name": "stdout",
     "output_type": "stream",
     "text": [
      "39\n"
     ]
    },
    {
     "data": {
      "text/plain": [
       "Index(['id', 'host_id', 'host_since', 'last_scraped', 'host_is_superhost',\n",
       "       'host_identity_verified', 'neighbourhood_cleansed', 'city', 'latitude',\n",
       "       'longitude', 'property_type', 'room_type', 'accommodates', 'bathrooms',\n",
       "       'bedrooms', 'beds', 'bed_type', 'amenities', 'price', 'guests_included',\n",
       "       'extra_people', 'minimum_nights', 'maximum_nights', 'availability_365',\n",
       "       'number_of_reviews', 'first_review', 'review_scores_rating',\n",
       "       'review_scores_accuracy', 'review_scores_cleanliness',\n",
       "       'review_scores_checkin', 'review_scores_communication',\n",
       "       'review_scores_value', 'requires_license', 'instant_bookable',\n",
       "       'cancellation_policy', 'require_guest_profile_picture',\n",
       "       'require_guest_phone_verification', 'calculated_host_listings_count',\n",
       "       'reviews_per_month'],\n",
       "      dtype='object')"
      ]
     },
     "execution_count": 27,
     "metadata": {},
     "output_type": "execute_result"
    }
   ],
   "source": [
    "print(len(cleaned_data.columns))\n",
    "cleaned_data.columns"
   ]
  },
  {
   "cell_type": "code",
   "execution_count": 28,
   "metadata": {},
   "outputs": [
    {
     "data": {
      "image/png": "[encoded data removed]",
      "text/plain": [
       "<Figure size 504x504 with 2 Axes>"
      ]
     },
     "metadata": {},
     "output_type": "display_data"
    }
   ],
   "source": [
    "#Now get the coulumn that are used for correlation\n",
    "Correlation_columns = ['accommodates','bathrooms','bedrooms','beds',\n",
    "        'calculated_host_listings_count','review_scores_value',\n",
    "        'review_scores_rating', 'price']\n",
    "\n",
    "#correlation between columns \n",
    "coffecient_corr = np.corrcoef(cleaned_data[Correlation_columns].values.T)\n",
    "#Heatmap\n",
    "sns.set(font_scale=1)\n",
    "sns.set(rc={'figure.figsize':(7,7)})\n",
    "heatmap_fig=sns.heatmap(coffecient_corr, cbar = True, annot=True, square = True, fmt = '.2f',\n",
    "              yticklabels = Correlation_columns, xticklabels = Correlation_columns).set_title('Visualizing Correations By Heatmap')\n",
    "\n",
    "fig = heatmap_fig.get_figure()\n",
    "fig.savefig('correlations.png')"
   ]
  },
  {
   "cell_type": "code",
   "execution_count": 29,
   "metadata": {},
   "outputs": [
    {
     "data": {
      "text/plain": [
       "Index(['id', 'host_id', 'host_since', 'last_scraped', 'host_is_superhost',\n",
       "       'host_identity_verified', 'neighbourhood_cleansed', 'city', 'latitude',\n",
       "       'longitude', 'property_type', 'room_type', 'accommodates', 'bathrooms',\n",
       "       'bedrooms', 'beds', 'bed_type', 'amenities', 'price', 'guests_included',\n",
       "       'extra_people', 'minimum_nights', 'maximum_nights', 'availability_365',\n",
       "       'number_of_reviews', 'first_review', 'review_scores_rating',\n",
       "       'review_scores_accuracy', 'review_scores_cleanliness',\n",
       "       'review_scores_checkin', 'review_scores_communication',\n",
       "       'review_scores_value', 'requires_license', 'instant_bookable',\n",
       "       'cancellation_policy', 'require_guest_profile_picture',\n",
       "       'require_guest_phone_verification', 'calculated_host_listings_count',\n",
       "       'reviews_per_month'],\n",
       "      dtype='object')"
      ]
     },
     "execution_count": 29,
     "metadata": {},
     "output_type": "execute_result"
    }
   ],
   "source": [
    "cleaned_data.columns\n"
   ]
  },
  {
   "cell_type": "markdown",
   "metadata": {},
   "source": [
    "### Host Name , Lastscraped columns are date columns as of now we do not need them . Dropping these columns."
   ]
  },
  {
   "cell_type": "code",
   "execution_count": 30,
   "metadata": {},
   "outputs": [
    {
     "data": {
      "text/plain": [
       "Index(['id', 'host_id', 'host_is_superhost', 'host_identity_verified',\n",
       "       'neighbourhood_cleansed', 'city', 'latitude', 'longitude',\n",
       "       'property_type', 'room_type', 'accommodates', 'bathrooms', 'bedrooms',\n",
       "       'beds', 'bed_type', 'amenities', 'price', 'guests_included',\n",
       "       'extra_people', 'minimum_nights', 'maximum_nights', 'availability_365',\n",
       "       'number_of_reviews', 'first_review', 'review_scores_rating',\n",
       "       'review_scores_accuracy', 'review_scores_cleanliness',\n",
       "       'review_scores_checkin', 'review_scores_communication',\n",
       "       'review_scores_value', 'requires_license', 'instant_bookable',\n",
       "       'cancellation_policy', 'require_guest_profile_picture',\n",
       "       'require_guest_phone_verification', 'calculated_host_listings_count',\n",
       "       'reviews_per_month'],\n",
       "      dtype='object')"
      ]
     },
     "execution_count": 30,
     "metadata": {},
     "output_type": "execute_result"
    }
   ],
   "source": [
    "cleaned_data=cleaned_data.drop(labels = ['last_scraped','host_since'],axis=1)\n",
    "cleaned_data.columns"
   ]
  },
  {
   "cell_type": "markdown",
   "metadata": {},
   "source": [
    "# One Hot Encoding with Categorical Values "
   ]
  },
  {
   "cell_type": "code",
   "execution_count": 31,
   "metadata": {},
   "outputs": [
    {
     "data": {
      "text/plain": [
       "host_is_superhost                   object\n",
       "host_identity_verified              object\n",
       "property_type                       object\n",
       "room_type                           object\n",
       "bed_type                            object\n",
       "requires_license                    object\n",
       "instant_bookable                    object\n",
       "cancellation_policy                 object\n",
       "require_guest_profile_picture       object\n",
       "require_guest_phone_verification    object\n",
       "dtype: object"
      ]
     },
     "execution_count": 31,
     "metadata": {},
     "output_type": "execute_result"
    }
   ],
   "source": [
    "categorical_features=['host_is_superhost',\n",
    "                     'host_identity_verified',\n",
    "                     'property_type',\n",
    "                     'room_type',\n",
    "                     'bed_type',\n",
    "                     'requires_license',\n",
    "                     'instant_bookable',\n",
    "                     'cancellation_policy',\n",
    "                     'require_guest_profile_picture',\n",
    "                     'require_guest_phone_verification']\n",
    "\n",
    "cleaned_data[categorical_features].dtypes"
   ]
  },
  {
   "cell_type": "markdown",
   "metadata": {},
   "source": [
    "## Converting feature dtypes to category  "
   ]
  },
  {
   "cell_type": "code",
   "execution_count": 32,
   "metadata": {},
   "outputs": [
    {
     "data": {
      "text/plain": [
       "host_is_superhost                   category\n",
       "host_identity_verified              category\n",
       "property_type                       category\n",
       "room_type                           category\n",
       "bed_type                            category\n",
       "requires_license                    category\n",
       "instant_bookable                    category\n",
       "cancellation_policy                 category\n",
       "require_guest_profile_picture       category\n",
       "require_guest_phone_verification    category\n",
       "dtype: object"
      ]
     },
     "execution_count": 32,
     "metadata": {},
     "output_type": "execute_result"
    }
   ],
   "source": [
    "cleaned_data[categorical_features] = cleaned_data[categorical_features].apply(lambda x: x.astype('category'),\n",
    "                                                                                axis='rows')\n",
    "cleaned_data[categorical_features].dtypes"
   ]
  },
  {
   "cell_type": "markdown",
   "metadata": {},
   "source": [
    "## Identifying Unique values in each feature"
   ]
  },
  {
   "cell_type": "code",
   "execution_count": 33,
   "metadata": {},
   "outputs": [
    {
     "name": "stdout",
     "output_type": "stream",
     "text": [
      "host_is_superhost                    2\n",
      "host_identity_verified               2\n",
      "property_type                       33\n",
      "room_type                            3\n",
      "bed_type                             5\n",
      "requires_license                     1\n",
      "instant_bookable                     2\n",
      "cancellation_policy                  5\n",
      "require_guest_profile_picture        2\n",
      "require_guest_phone_verification     2\n",
      "dtype: int64\n"
     ]
    }
   ],
   "source": [
    "num_unique_values = cleaned_data[categorical_features].apply(pd.Series.nunique, axis='rows')\n",
    "print(num_unique_values)\n",
    "\n"
   ]
  },
  {
   "cell_type": "code",
   "execution_count": 34,
   "metadata": {},
   "outputs": [
    {
     "data": {
      "text/html": [
       "<div>\n",
       "<style scoped>\n",
       "    .dataframe tbody tr th:only-of-type {\n",
       "        vertical-align: middle;\n",
       "    }\n",
       "\n",
       "    .dataframe tbody tr th {\n",
       "        vertical-align: top;\n",
       "    }\n",
       "\n",
       "    .dataframe thead th {\n",
       "        text-align: right;\n",
       "    }\n",
       "</style>\n",
       "<table border=\"1\" class=\"dataframe\">\n",
       "  <thead>\n",
       "    <tr style=\"text-align: right;\">\n",
       "      <th></th>\n",
       "      <th>host_is_superhost_f</th>\n",
       "      <th>host_is_superhost_t</th>\n",
       "      <th>host_identity_verified_f</th>\n",
       "      <th>host_identity_verified_t</th>\n",
       "      <th>property_type_Aparthotel</th>\n",
       "      <th>property_type_Apartment</th>\n",
       "      <th>property_type_Barn</th>\n",
       "      <th>property_type_Bed and breakfast</th>\n",
       "      <th>property_type_Boat</th>\n",
       "      <th>property_type_Boutique hotel</th>\n",
       "      <th>...</th>\n",
       "      <th>instant_bookable_t</th>\n",
       "      <th>cancellation_policy_flexible</th>\n",
       "      <th>cancellation_policy_moderate</th>\n",
       "      <th>cancellation_policy_strict_14_with_grace_period</th>\n",
       "      <th>cancellation_policy_super_strict_30</th>\n",
       "      <th>cancellation_policy_super_strict_60</th>\n",
       "      <th>require_guest_profile_picture_f</th>\n",
       "      <th>require_guest_profile_picture_t</th>\n",
       "      <th>require_guest_phone_verification_f</th>\n",
       "      <th>require_guest_phone_verification_t</th>\n",
       "    </tr>\n",
       "  </thead>\n",
       "  <tbody>\n",
       "    <tr>\n",
       "      <th>0</th>\n",
       "      <td>0</td>\n",
       "      <td>1</td>\n",
       "      <td>1</td>\n",
       "      <td>0</td>\n",
       "      <td>0</td>\n",
       "      <td>1</td>\n",
       "      <td>0</td>\n",
       "      <td>0</td>\n",
       "      <td>0</td>\n",
       "      <td>0</td>\n",
       "      <td>...</td>\n",
       "      <td>1</td>\n",
       "      <td>0</td>\n",
       "      <td>0</td>\n",
       "      <td>1</td>\n",
       "      <td>0</td>\n",
       "      <td>0</td>\n",
       "      <td>1</td>\n",
       "      <td>0</td>\n",
       "      <td>1</td>\n",
       "      <td>0</td>\n",
       "    </tr>\n",
       "    <tr>\n",
       "      <th>1</th>\n",
       "      <td>1</td>\n",
       "      <td>0</td>\n",
       "      <td>1</td>\n",
       "      <td>0</td>\n",
       "      <td>0</td>\n",
       "      <td>0</td>\n",
       "      <td>0</td>\n",
       "      <td>0</td>\n",
       "      <td>0</td>\n",
       "      <td>0</td>\n",
       "      <td>...</td>\n",
       "      <td>0</td>\n",
       "      <td>0</td>\n",
       "      <td>0</td>\n",
       "      <td>1</td>\n",
       "      <td>0</td>\n",
       "      <td>0</td>\n",
       "      <td>1</td>\n",
       "      <td>0</td>\n",
       "      <td>1</td>\n",
       "      <td>0</td>\n",
       "    </tr>\n",
       "    <tr>\n",
       "      <th>2</th>\n",
       "      <td>1</td>\n",
       "      <td>0</td>\n",
       "      <td>1</td>\n",
       "      <td>0</td>\n",
       "      <td>0</td>\n",
       "      <td>1</td>\n",
       "      <td>0</td>\n",
       "      <td>0</td>\n",
       "      <td>0</td>\n",
       "      <td>0</td>\n",
       "      <td>...</td>\n",
       "      <td>0</td>\n",
       "      <td>0</td>\n",
       "      <td>0</td>\n",
       "      <td>1</td>\n",
       "      <td>0</td>\n",
       "      <td>0</td>\n",
       "      <td>1</td>\n",
       "      <td>0</td>\n",
       "      <td>1</td>\n",
       "      <td>0</td>\n",
       "    </tr>\n",
       "    <tr>\n",
       "      <th>3</th>\n",
       "      <td>0</td>\n",
       "      <td>1</td>\n",
       "      <td>0</td>\n",
       "      <td>1</td>\n",
       "      <td>0</td>\n",
       "      <td>0</td>\n",
       "      <td>0</td>\n",
       "      <td>0</td>\n",
       "      <td>0</td>\n",
       "      <td>0</td>\n",
       "      <td>...</td>\n",
       "      <td>1</td>\n",
       "      <td>0</td>\n",
       "      <td>0</td>\n",
       "      <td>1</td>\n",
       "      <td>0</td>\n",
       "      <td>0</td>\n",
       "      <td>1</td>\n",
       "      <td>0</td>\n",
       "      <td>1</td>\n",
       "      <td>0</td>\n",
       "    </tr>\n",
       "    <tr>\n",
       "      <th>4</th>\n",
       "      <td>0</td>\n",
       "      <td>1</td>\n",
       "      <td>0</td>\n",
       "      <td>1</td>\n",
       "      <td>0</td>\n",
       "      <td>1</td>\n",
       "      <td>0</td>\n",
       "      <td>0</td>\n",
       "      <td>0</td>\n",
       "      <td>0</td>\n",
       "      <td>...</td>\n",
       "      <td>0</td>\n",
       "      <td>0</td>\n",
       "      <td>1</td>\n",
       "      <td>0</td>\n",
       "      <td>0</td>\n",
       "      <td>0</td>\n",
       "      <td>1</td>\n",
       "      <td>0</td>\n",
       "      <td>1</td>\n",
       "      <td>0</td>\n",
       "    </tr>\n",
       "  </tbody>\n",
       "</table>\n",
       "<p>5 rows × 57 columns</p>\n",
       "</div>"
      ],
      "text/plain": [
       "   host_is_superhost_f  host_is_superhost_t  host_identity_verified_f  \\\n",
       "0                    0                    1                         1   \n",
       "1                    1                    0                         1   \n",
       "2                    1                    0                         1   \n",
       "3                    0                    1                         0   \n",
       "4                    0                    1                         0   \n",
       "\n",
       "   host_identity_verified_t  property_type_Aparthotel  \\\n",
       "0                         0                         0   \n",
       "1                         0                         0   \n",
       "2                         0                         0   \n",
       "3                         1                         0   \n",
       "4                         1                         0   \n",
       "\n",
       "   property_type_Apartment  property_type_Barn  \\\n",
       "0                        1                   0   \n",
       "1                        0                   0   \n",
       "2                        1                   0   \n",
       "3                        0                   0   \n",
       "4                        1                   0   \n",
       "\n",
       "   property_type_Bed and breakfast  property_type_Boat  \\\n",
       "0                                0                   0   \n",
       "1                                0                   0   \n",
       "2                                0                   0   \n",
       "3                                0                   0   \n",
       "4                                0                   0   \n",
       "\n",
       "   property_type_Boutique hotel                 ...                  \\\n",
       "0                             0                 ...                   \n",
       "1                             0                 ...                   \n",
       "2                             0                 ...                   \n",
       "3                             0                 ...                   \n",
       "4                             0                 ...                   \n",
       "\n",
       "   instant_bookable_t  cancellation_policy_flexible  \\\n",
       "0                   1                             0   \n",
       "1                   0                             0   \n",
       "2                   0                             0   \n",
       "3                   1                             0   \n",
       "4                   0                             0   \n",
       "\n",
       "   cancellation_policy_moderate  \\\n",
       "0                             0   \n",
       "1                             0   \n",
       "2                             0   \n",
       "3                             0   \n",
       "4                             1   \n",
       "\n",
       "   cancellation_policy_strict_14_with_grace_period  \\\n",
       "0                                                1   \n",
       "1                                                1   \n",
       "2                                                1   \n",
       "3                                                1   \n",
       "4                                                0   \n",
       "\n",
       "   cancellation_policy_super_strict_30  cancellation_policy_super_strict_60  \\\n",
       "0                                    0                                    0   \n",
       "1                                    0                                    0   \n",
       "2                                    0                                    0   \n",
       "3                                    0                                    0   \n",
       "4                                    0                                    0   \n",
       "\n",
       "   require_guest_profile_picture_f  require_guest_profile_picture_t  \\\n",
       "0                                1                                0   \n",
       "1                                1                                0   \n",
       "2                                1                                0   \n",
       "3                                1                                0   \n",
       "4                                1                                0   \n",
       "\n",
       "   require_guest_phone_verification_f  require_guest_phone_verification_t  \n",
       "0                                   1                                   0  \n",
       "1                                   1                                   0  \n",
       "2                                   1                                   0  \n",
       "3                                   1                                   0  \n",
       "4                                   1                                   0  \n",
       "\n",
       "[5 rows x 57 columns]"
      ]
     },
     "execution_count": 34,
     "metadata": {},
     "output_type": "execute_result"
    }
   ],
   "source": [
    "category_one_hot_encoding = pd.get_dummies(cleaned_data[categorical_features])\n",
    "category_one_hot_encoding.head()"
   ]
  },
  {
   "cell_type": "code",
   "execution_count": 35,
   "metadata": {},
   "outputs": [
    {
     "data": {
      "text/plain": [
       "Index(['id', 'host_id', 'host_is_superhost', 'host_identity_verified',\n",
       "       'neighbourhood_cleansed', 'city', 'latitude', 'longitude',\n",
       "       'property_type', 'room_type', 'accommodates', 'bathrooms', 'bedrooms',\n",
       "       'beds', 'bed_type', 'amenities', 'price', 'guests_included',\n",
       "       'extra_people', 'minimum_nights', 'maximum_nights', 'availability_365',\n",
       "       'number_of_reviews', 'first_review', 'review_scores_rating',\n",
       "       'review_scores_accuracy', 'review_scores_cleanliness',\n",
       "       'review_scores_checkin', 'review_scores_communication',\n",
       "       'review_scores_value', 'requires_license', 'instant_bookable',\n",
       "       'cancellation_policy', 'require_guest_profile_picture',\n",
       "       'require_guest_phone_verification', 'calculated_host_listings_count',\n",
       "       'reviews_per_month'],\n",
       "      dtype='object')"
      ]
     },
     "execution_count": 35,
     "metadata": {},
     "output_type": "execute_result"
    }
   ],
   "source": [
    "cleaned_data.columns"
   ]
  },
  {
   "cell_type": "markdown",
   "metadata": {},
   "source": [
    "## One Hot Encoding "
   ]
  },
  {
   "cell_type": "markdown",
   "metadata": {},
   "source": [
    "## Dropping the original columns (Categorical features ) and adding the one Hot encoded columns back in the dataset "
   ]
  },
  {
   "cell_type": "code",
   "execution_count": 36,
   "metadata": {},
   "outputs": [],
   "source": [
    "cleaned_data=cleaned_data.drop(categorical_features,axis='columns')\n",
    "cleaned_data = pd.concat([cleaned_data,category_one_hot_encoding],axis='columns')"
   ]
  },
  {
   "cell_type": "code",
   "execution_count": 37,
   "metadata": {},
   "outputs": [
    {
     "data": {
      "text/plain": [
       "Index(['id', 'host_id', 'accommodates', 'guests_included', 'minimum_nights',\n",
       "       'maximum_nights', 'availability_365', 'number_of_reviews',\n",
       "       'calculated_host_listings_count'],\n",
       "      dtype='object')"
      ]
     },
     "execution_count": 37,
     "metadata": {},
     "output_type": "execute_result"
    }
   ],
   "source": [
    "cleaned_data.select_dtypes(include=['int']).columns"
   ]
  },
  {
   "cell_type": "markdown",
   "metadata": {},
   "source": [
    "## Handling missing values - Filling the missing values with the Median "
   ]
  },
  {
   "cell_type": "code",
   "execution_count": 38,
   "metadata": {},
   "outputs": [
    {
     "data": {
      "text/plain": [
       "id                                                  0\n",
       "host_id                                             0\n",
       "neighbourhood_cleansed                              0\n",
       "city                                                3\n",
       "latitude                                            0\n",
       "longitude                                           0\n",
       "accommodates                                        0\n",
       "bathrooms                                           0\n",
       "bedrooms                                            0\n",
       "beds                                                0\n",
       "amenities                                           0\n",
       "price                                               0\n",
       "guests_included                                     0\n",
       "extra_people                                        0\n",
       "minimum_nights                                      0\n",
       "maximum_nights                                      0\n",
       "availability_365                                    0\n",
       "number_of_reviews                                   0\n",
       "first_review                                        0\n",
       "review_scores_rating                                0\n",
       "review_scores_accuracy                             11\n",
       "review_scores_cleanliness                           9\n",
       "review_scores_checkin                              21\n",
       "review_scores_communication                        14\n",
       "review_scores_value                                19\n",
       "calculated_host_listings_count                      0\n",
       "reviews_per_month                                   0\n",
       "host_is_superhost_f                                 0\n",
       "host_is_superhost_t                                 0\n",
       "host_identity_verified_f                            0\n",
       "                                                   ..\n",
       "property_type_Hut                                   0\n",
       "property_type_Lighthouse                            0\n",
       "property_type_Loft                                  0\n",
       "property_type_Nature lodge                          0\n",
       "property_type_Other                                 0\n",
       "property_type_Serviced apartment                    0\n",
       "property_type_Tent                                  0\n",
       "property_type_Tiny house                            0\n",
       "property_type_Townhouse                             0\n",
       "property_type_Villa                                 0\n",
       "room_type_Entire home/apt                           0\n",
       "room_type_Private room                              0\n",
       "room_type_Shared room                               0\n",
       "bed_type_Airbed                                     0\n",
       "bed_type_Couch                                      0\n",
       "bed_type_Futon                                      0\n",
       "bed_type_Pull-out Sofa                              0\n",
       "bed_type_Real Bed                                   0\n",
       "requires_license_f                                  0\n",
       "instant_bookable_f                                  0\n",
       "instant_bookable_t                                  0\n",
       "cancellation_policy_flexible                        0\n",
       "cancellation_policy_moderate                        0\n",
       "cancellation_policy_strict_14_with_grace_period     0\n",
       "cancellation_policy_super_strict_30                 0\n",
       "cancellation_policy_super_strict_60                 0\n",
       "require_guest_profile_picture_f                     0\n",
       "require_guest_profile_picture_t                     0\n",
       "require_guest_phone_verification_f                  0\n",
       "require_guest_phone_verification_t                  0\n",
       "Length: 84, dtype: int64"
      ]
     },
     "execution_count": 38,
     "metadata": {},
     "output_type": "execute_result"
    }
   ],
   "source": [
    "cleaned_data.isna().sum()\n"
   ]
  },
  {
   "cell_type": "code",
   "execution_count": 39,
   "metadata": {},
   "outputs": [
    {
     "data": {
      "text/html": [
       "<div>\n",
       "<style scoped>\n",
       "    .dataframe tbody tr th:only-of-type {\n",
       "        vertical-align: middle;\n",
       "    }\n",
       "\n",
       "    .dataframe tbody tr th {\n",
       "        vertical-align: top;\n",
       "    }\n",
       "\n",
       "    .dataframe thead th {\n",
       "        text-align: right;\n",
       "    }\n",
       "</style>\n",
       "<table border=\"1\" class=\"dataframe\">\n",
       "  <thead>\n",
       "    <tr style=\"text-align: right;\">\n",
       "      <th></th>\n",
       "      <th>id</th>\n",
       "      <th>host_id</th>\n",
       "      <th>neighbourhood_cleansed</th>\n",
       "      <th>city</th>\n",
       "      <th>latitude</th>\n",
       "      <th>longitude</th>\n",
       "      <th>accommodates</th>\n",
       "      <th>bathrooms</th>\n",
       "      <th>bedrooms</th>\n",
       "      <th>beds</th>\n",
       "      <th>...</th>\n",
       "      <th>instant_bookable_t</th>\n",
       "      <th>cancellation_policy_flexible</th>\n",
       "      <th>cancellation_policy_moderate</th>\n",
       "      <th>cancellation_policy_strict_14_with_grace_period</th>\n",
       "      <th>cancellation_policy_super_strict_30</th>\n",
       "      <th>cancellation_policy_super_strict_60</th>\n",
       "      <th>require_guest_profile_picture_f</th>\n",
       "      <th>require_guest_profile_picture_t</th>\n",
       "      <th>require_guest_phone_verification_f</th>\n",
       "      <th>require_guest_phone_verification_t</th>\n",
       "    </tr>\n",
       "  </thead>\n",
       "  <tbody>\n",
       "    <tr>\n",
       "      <th>0</th>\n",
       "      <td>2818</td>\n",
       "      <td>3159</td>\n",
       "      <td>Oostelijk Havengebied - Indische Buurt</td>\n",
       "      <td>Amsterdam</td>\n",
       "      <td>52.36575</td>\n",
       "      <td>4.94142</td>\n",
       "      <td>2</td>\n",
       "      <td>1.5</td>\n",
       "      <td>1.0</td>\n",
       "      <td>2.0</td>\n",
       "      <td>...</td>\n",
       "      <td>1</td>\n",
       "      <td>0</td>\n",
       "      <td>0</td>\n",
       "      <td>1</td>\n",
       "      <td>0</td>\n",
       "      <td>0</td>\n",
       "      <td>1</td>\n",
       "      <td>0</td>\n",
       "      <td>1</td>\n",
       "      <td>0</td>\n",
       "    </tr>\n",
       "    <tr>\n",
       "      <th>1</th>\n",
       "      <td>20168</td>\n",
       "      <td>59484</td>\n",
       "      <td>Centrum-Oost</td>\n",
       "      <td>Amsterdam</td>\n",
       "      <td>52.36509</td>\n",
       "      <td>4.89354</td>\n",
       "      <td>2</td>\n",
       "      <td>1.0</td>\n",
       "      <td>1.0</td>\n",
       "      <td>1.0</td>\n",
       "      <td>...</td>\n",
       "      <td>0</td>\n",
       "      <td>0</td>\n",
       "      <td>0</td>\n",
       "      <td>1</td>\n",
       "      <td>0</td>\n",
       "      <td>0</td>\n",
       "      <td>1</td>\n",
       "      <td>0</td>\n",
       "      <td>1</td>\n",
       "      <td>0</td>\n",
       "    </tr>\n",
       "    <tr>\n",
       "      <th>2</th>\n",
       "      <td>25428</td>\n",
       "      <td>56142</td>\n",
       "      <td>Centrum-West</td>\n",
       "      <td>Amsterdam</td>\n",
       "      <td>52.37297</td>\n",
       "      <td>4.88339</td>\n",
       "      <td>3</td>\n",
       "      <td>1.0</td>\n",
       "      <td>1.0</td>\n",
       "      <td>1.0</td>\n",
       "      <td>...</td>\n",
       "      <td>0</td>\n",
       "      <td>0</td>\n",
       "      <td>0</td>\n",
       "      <td>1</td>\n",
       "      <td>0</td>\n",
       "      <td>0</td>\n",
       "      <td>1</td>\n",
       "      <td>0</td>\n",
       "      <td>1</td>\n",
       "      <td>0</td>\n",
       "    </tr>\n",
       "    <tr>\n",
       "      <th>3</th>\n",
       "      <td>27886</td>\n",
       "      <td>97647</td>\n",
       "      <td>Centrum-West</td>\n",
       "      <td>Amsterdam</td>\n",
       "      <td>52.38673</td>\n",
       "      <td>4.89208</td>\n",
       "      <td>2</td>\n",
       "      <td>1.0</td>\n",
       "      <td>1.0</td>\n",
       "      <td>1.0</td>\n",
       "      <td>...</td>\n",
       "      <td>1</td>\n",
       "      <td>0</td>\n",
       "      <td>0</td>\n",
       "      <td>1</td>\n",
       "      <td>0</td>\n",
       "      <td>0</td>\n",
       "      <td>1</td>\n",
       "      <td>0</td>\n",
       "      <td>1</td>\n",
       "      <td>0</td>\n",
       "    </tr>\n",
       "    <tr>\n",
       "      <th>4</th>\n",
       "      <td>28871</td>\n",
       "      <td>124245</td>\n",
       "      <td>Centrum-West</td>\n",
       "      <td>Amsterdam</td>\n",
       "      <td>52.36719</td>\n",
       "      <td>4.89092</td>\n",
       "      <td>2</td>\n",
       "      <td>1.0</td>\n",
       "      <td>1.0</td>\n",
       "      <td>1.0</td>\n",
       "      <td>...</td>\n",
       "      <td>0</td>\n",
       "      <td>0</td>\n",
       "      <td>1</td>\n",
       "      <td>0</td>\n",
       "      <td>0</td>\n",
       "      <td>0</td>\n",
       "      <td>1</td>\n",
       "      <td>0</td>\n",
       "      <td>1</td>\n",
       "      <td>0</td>\n",
       "    </tr>\n",
       "  </tbody>\n",
       "</table>\n",
       "<p>5 rows × 84 columns</p>\n",
       "</div>"
      ],
      "text/plain": [
       "      id  host_id                  neighbourhood_cleansed       city  \\\n",
       "0   2818     3159  Oostelijk Havengebied - Indische Buurt  Amsterdam   \n",
       "1  20168    59484                            Centrum-Oost  Amsterdam   \n",
       "2  25428    56142                            Centrum-West  Amsterdam   \n",
       "3  27886    97647                            Centrum-West  Amsterdam   \n",
       "4  28871   124245                            Centrum-West  Amsterdam   \n",
       "\n",
       "   latitude  longitude  accommodates  bathrooms  bedrooms  beds  \\\n",
       "0  52.36575    4.94142             2        1.5       1.0   2.0   \n",
       "1  52.36509    4.89354             2        1.0       1.0   1.0   \n",
       "2  52.37297    4.88339             3        1.0       1.0   1.0   \n",
       "3  52.38673    4.89208             2        1.0       1.0   1.0   \n",
       "4  52.36719    4.89092             2        1.0       1.0   1.0   \n",
       "\n",
       "                  ...                 instant_bookable_t  \\\n",
       "0                 ...                                  1   \n",
       "1                 ...                                  0   \n",
       "2                 ...                                  0   \n",
       "3                 ...                                  1   \n",
       "4                 ...                                  0   \n",
       "\n",
       "   cancellation_policy_flexible  cancellation_policy_moderate  \\\n",
       "0                             0                             0   \n",
       "1                             0                             0   \n",
       "2                             0                             0   \n",
       "3                             0                             0   \n",
       "4                             0                             1   \n",
       "\n",
       "  cancellation_policy_strict_14_with_grace_period  \\\n",
       "0                                               1   \n",
       "1                                               1   \n",
       "2                                               1   \n",
       "3                                               1   \n",
       "4                                               0   \n",
       "\n",
       "   cancellation_policy_super_strict_30  cancellation_policy_super_strict_60  \\\n",
       "0                                    0                                    0   \n",
       "1                                    0                                    0   \n",
       "2                                    0                                    0   \n",
       "3                                    0                                    0   \n",
       "4                                    0                                    0   \n",
       "\n",
       "   require_guest_profile_picture_f  require_guest_profile_picture_t  \\\n",
       "0                                1                                0   \n",
       "1                                1                                0   \n",
       "2                                1                                0   \n",
       "3                                1                                0   \n",
       "4                                1                                0   \n",
       "\n",
       "  require_guest_phone_verification_f  require_guest_phone_verification_t  \n",
       "0                                  1                                   0  \n",
       "1                                  1                                   0  \n",
       "2                                  1                                   0  \n",
       "3                                  1                                   0  \n",
       "4                                  1                                   0  \n",
       "\n",
       "[5 rows x 84 columns]"
      ]
     },
     "execution_count": 39,
     "metadata": {},
     "output_type": "execute_result"
    }
   ],
   "source": [
    "cleaned_data.head()\n"
   ]
  },
  {
   "cell_type": "code",
   "execution_count": 40,
   "metadata": {},
   "outputs": [
    {
     "data": {
      "text/plain": [
       "Index(['id', 'host_id', 'neighbourhood_cleansed', 'city', 'latitude',\n",
       "       'longitude', 'accommodates', 'bathrooms', 'bedrooms', 'beds',\n",
       "       'amenities', 'price', 'guests_included', 'extra_people',\n",
       "       'minimum_nights', 'maximum_nights', 'availability_365',\n",
       "       'number_of_reviews', 'first_review', 'review_scores_rating',\n",
       "       'review_scores_accuracy', 'review_scores_cleanliness',\n",
       "       'review_scores_checkin', 'review_scores_communication',\n",
       "       'review_scores_value', 'calculated_host_listings_count',\n",
       "       'reviews_per_month', 'host_is_superhost_f', 'host_is_superhost_t',\n",
       "       'host_identity_verified_f', 'host_identity_verified_t',\n",
       "       'property_type_Aparthotel', 'property_type_Apartment',\n",
       "       'property_type_Barn', 'property_type_Bed and breakfast',\n",
       "       'property_type_Boat', 'property_type_Boutique hotel',\n",
       "       'property_type_Bungalow', 'property_type_Cabin',\n",
       "       'property_type_Camper/RV', 'property_type_Campsite',\n",
       "       'property_type_Casa particular (Cuba)', 'property_type_Castle',\n",
       "       'property_type_Chalet', 'property_type_Condominium',\n",
       "       'property_type_Cottage', 'property_type_Dome house',\n",
       "       'property_type_Earth house', 'property_type_Guest suite',\n",
       "       'property_type_Guesthouse', 'property_type_Hostel',\n",
       "       'property_type_Hotel', 'property_type_House', 'property_type_Houseboat',\n",
       "       'property_type_Hut', 'property_type_Lighthouse', 'property_type_Loft',\n",
       "       'property_type_Nature lodge', 'property_type_Other',\n",
       "       'property_type_Serviced apartment', 'property_type_Tent',\n",
       "       'property_type_Tiny house', 'property_type_Townhouse',\n",
       "       'property_type_Villa', 'room_type_Entire home/apt',\n",
       "       'room_type_Private room', 'room_type_Shared room', 'bed_type_Airbed',\n",
       "       'bed_type_Couch', 'bed_type_Futon', 'bed_type_Pull-out Sofa',\n",
       "       'bed_type_Real Bed', 'requires_license_f', 'instant_bookable_f',\n",
       "       'instant_bookable_t', 'cancellation_policy_flexible',\n",
       "       'cancellation_policy_moderate',\n",
       "       'cancellation_policy_strict_14_with_grace_period',\n",
       "       'cancellation_policy_super_strict_30',\n",
       "       'cancellation_policy_super_strict_60',\n",
       "       'require_guest_profile_picture_f', 'require_guest_profile_picture_t',\n",
       "       'require_guest_phone_verification_f',\n",
       "       'require_guest_phone_verification_t'],\n",
       "      dtype='object')"
      ]
     },
     "execution_count": 40,
     "metadata": {},
     "output_type": "execute_result"
    }
   ],
   "source": [
    "cleaned_data.columns"
   ]
  },
  {
   "cell_type": "code",
   "execution_count": 41,
   "metadata": {},
   "outputs": [],
   "source": [
    "cleaned_data=cleaned_data.drop(labels=['first_review','neighbourhood_cleansed','city'], axis=1)"
   ]
  },
  {
   "cell_type": "code",
   "execution_count": 42,
   "metadata": {},
   "outputs": [],
   "source": [
    "cleaned_data=cleaned_data.drop(labels=['amenities'],axis=1)\n",
    "cleaned_data.extra_people = cleaned_data.extra_people.str.lstrip('$').str.replace(',', '')\n",
    "cleaned_data.extra_people = cleaned_data.extra_people.astype('float')"
   ]
  },
  {
   "cell_type": "markdown",
   "metadata": {},
   "source": [
    "## Filling missing value with median"
   ]
  },
  {
   "cell_type": "code",
   "execution_count": 43,
   "metadata": {},
   "outputs": [
    {
     "name": "stdout",
     "output_type": "stream",
     "text": [
      "id\n",
      "host_id\n",
      "latitude\n",
      "longitude\n",
      "accommodates\n",
      "bathrooms\n",
      "bedrooms\n",
      "beds\n",
      "price\n",
      "guests_included\n",
      "extra_people\n",
      "minimum_nights\n",
      "maximum_nights\n",
      "availability_365\n",
      "number_of_reviews\n",
      "review_scores_rating\n",
      "review_scores_accuracy\n",
      "review_scores_cleanliness\n",
      "review_scores_checkin\n",
      "review_scores_communication\n",
      "review_scores_value\n",
      "calculated_host_listings_count\n",
      "reviews_per_month\n",
      "host_is_superhost_f\n",
      "host_is_superhost_t\n",
      "host_identity_verified_f\n",
      "host_identity_verified_t\n",
      "property_type_Aparthotel\n",
      "property_type_Apartment\n",
      "property_type_Barn\n",
      "property_type_Bed and breakfast\n",
      "property_type_Boat\n",
      "property_type_Boutique hotel\n",
      "property_type_Bungalow\n",
      "property_type_Cabin\n",
      "property_type_Camper/RV\n",
      "property_type_Campsite\n",
      "property_type_Casa particular (Cuba)\n",
      "property_type_Castle\n",
      "property_type_Chalet\n",
      "property_type_Condominium\n",
      "property_type_Cottage\n",
      "property_type_Dome house\n",
      "property_type_Earth house\n",
      "property_type_Guest suite\n",
      "property_type_Guesthouse\n",
      "property_type_Hostel\n",
      "property_type_Hotel\n",
      "property_type_House\n",
      "property_type_Houseboat\n",
      "property_type_Hut\n",
      "property_type_Lighthouse\n",
      "property_type_Loft\n",
      "property_type_Nature lodge\n",
      "property_type_Other\n",
      "property_type_Serviced apartment\n",
      "property_type_Tent\n",
      "property_type_Tiny house\n",
      "property_type_Townhouse\n",
      "property_type_Villa\n",
      "room_type_Entire home/apt\n",
      "room_type_Private room\n",
      "room_type_Shared room\n",
      "bed_type_Airbed\n",
      "bed_type_Couch\n",
      "bed_type_Futon\n",
      "bed_type_Pull-out Sofa\n",
      "bed_type_Real Bed\n",
      "requires_license_f\n",
      "instant_bookable_f\n",
      "instant_bookable_t\n",
      "cancellation_policy_flexible\n",
      "cancellation_policy_moderate\n",
      "cancellation_policy_strict_14_with_grace_period\n",
      "cancellation_policy_super_strict_30\n",
      "cancellation_policy_super_strict_60\n",
      "require_guest_profile_picture_f\n",
      "require_guest_profile_picture_t\n",
      "require_guest_phone_verification_f\n",
      "require_guest_phone_verification_t\n"
     ]
    }
   ],
   "source": [
    "\n",
    "for num in cleaned_data.columns:\n",
    "    print(num)\n",
    "    cleaned_data[num].fillna(cleaned_data[num].median(), inplace=True)"
   ]
  },
  {
   "cell_type": "code",
   "execution_count": 44,
   "metadata": {},
   "outputs": [
    {
     "data": {
      "text/plain": [
       "id                                                 0\n",
       "host_id                                            0\n",
       "latitude                                           0\n",
       "longitude                                          0\n",
       "accommodates                                       0\n",
       "bathrooms                                          0\n",
       "bedrooms                                           0\n",
       "beds                                               0\n",
       "price                                              0\n",
       "guests_included                                    0\n",
       "extra_people                                       0\n",
       "minimum_nights                                     0\n",
       "maximum_nights                                     0\n",
       "availability_365                                   0\n",
       "number_of_reviews                                  0\n",
       "review_scores_rating                               0\n",
       "review_scores_accuracy                             0\n",
       "review_scores_cleanliness                          0\n",
       "review_scores_checkin                              0\n",
       "review_scores_communication                        0\n",
       "review_scores_value                                0\n",
       "calculated_host_listings_count                     0\n",
       "reviews_per_month                                  0\n",
       "host_is_superhost_f                                0\n",
       "host_is_superhost_t                                0\n",
       "host_identity_verified_f                           0\n",
       "host_identity_verified_t                           0\n",
       "property_type_Aparthotel                           0\n",
       "property_type_Apartment                            0\n",
       "property_type_Barn                                 0\n",
       "                                                  ..\n",
       "property_type_Hut                                  0\n",
       "property_type_Lighthouse                           0\n",
       "property_type_Loft                                 0\n",
       "property_type_Nature lodge                         0\n",
       "property_type_Other                                0\n",
       "property_type_Serviced apartment                   0\n",
       "property_type_Tent                                 0\n",
       "property_type_Tiny house                           0\n",
       "property_type_Townhouse                            0\n",
       "property_type_Villa                                0\n",
       "room_type_Entire home/apt                          0\n",
       "room_type_Private room                             0\n",
       "room_type_Shared room                              0\n",
       "bed_type_Airbed                                    0\n",
       "bed_type_Couch                                     0\n",
       "bed_type_Futon                                     0\n",
       "bed_type_Pull-out Sofa                             0\n",
       "bed_type_Real Bed                                  0\n",
       "requires_license_f                                 0\n",
       "instant_bookable_f                                 0\n",
       "instant_bookable_t                                 0\n",
       "cancellation_policy_flexible                       0\n",
       "cancellation_policy_moderate                       0\n",
       "cancellation_policy_strict_14_with_grace_period    0\n",
       "cancellation_policy_super_strict_30                0\n",
       "cancellation_policy_super_strict_60                0\n",
       "require_guest_profile_picture_f                    0\n",
       "require_guest_profile_picture_t                    0\n",
       "require_guest_phone_verification_f                 0\n",
       "require_guest_phone_verification_t                 0\n",
       "Length: 80, dtype: int64"
      ]
     },
     "execution_count": 44,
     "metadata": {},
     "output_type": "execute_result"
    }
   ],
   "source": [
    "cleaned_data.isna().sum()"
   ]
  },
  {
   "cell_type": "markdown",
   "metadata": {},
   "source": [
    "## RandomForestRegressor"
   ]
  },
  {
   "cell_type": "code",
   "execution_count": 45,
   "metadata": {},
   "outputs": [],
   "source": [
    "\n",
    "X = cleaned_data.drop(columns = 'price')\n",
    "y = cleaned_data[['price']]\n",
    "\n",
    "X_train, X_test, y_train, y_test = train_test_split(X, y, test_size = 0.3, random_state = 42)"
   ]
  },
  {
   "cell_type": "code",
   "execution_count": 46,
   "metadata": {},
   "outputs": [
    {
     "name": "stderr",
     "output_type": "stream",
     "text": [
      "/Users/rohini/anaconda3/lib/python3.6/site-packages/ipykernel_launcher.py:8: DataConversionWarning: A column-vector y was passed when a 1d array was expected. Please change the shape of y to (n_samples,), for example using ravel().\n",
      "  \n"
     ]
    },
    {
     "name": "stdout",
     "output_type": "stream",
     "text": [
      "RMSE test: 177.021\n",
      "R^2 test: 0.140\n"
     ]
    }
   ],
   "source": [
    "from sklearn.metrics import r2_score\n",
    "from sklearn.metrics import mean_squared_error\n",
    "from sklearn.ensemble import RandomForestRegressor\n",
    "rf = RandomForestRegressor(n_estimators=500, \n",
    "                               criterion='mse', \n",
    "                               random_state=3, \n",
    "                               n_jobs=-1)\n",
    "rf.fit(X_train, y_train)\n",
    "y_train_pred = rf.predict(X_train)\n",
    "y_test_pred = rf.predict(X_test)\n",
    "rmse_rf= (mean_squared_error(y_test,y_test_pred))**(1/2)\n",
    "\n",
    "print('RMSE test: %.3f' % rmse_rf)\n",
    "print('R^2 test: %.3f' % (r2_score(y_test, y_test_pred)))"
   ]
  },
  {
   "cell_type": "markdown",
   "metadata": {},
   "source": [
    "## Linear Regression"
   ]
  },
  {
   "cell_type": "code",
   "execution_count": 47,
   "metadata": {},
   "outputs": [
    {
     "name": "stdout",
     "output_type": "stream",
     "text": [
      "For training data, mean squared error: 6325.0091, R2: 0.4542\n",
      "For test data, mean squared error: 32757.6917, R2: 0.1012\n"
     ]
    }
   ],
   "source": [
    "\n",
    "# linear regression\n",
    "from sklearn.linear_model import LinearRegression\n",
    "model = LinearRegression()\n",
    "model.fit(X_train, y_train)\n",
    "y_train_pred = model.predict(X_train)\n",
    "y_test_pred = model.predict(X_test)\n",
    "    \n",
    "mse = mean_squared_error(y_train, y_train_pred)\n",
    "r2 = r2_score(y_train, y_train_pred)\n",
    "print('For training data, mean squared error: {:.4f}, R2: {:.4f}'.format(mse, r2))\n",
    "\n",
    "mse = mean_squared_error(y_test, y_test_pred)\n",
    "r2 = r2_score(y_test, y_test_pred)\n",
    "print('For test data, mean squared error: {:.4f}, R2: {:.4f}'.format(mse, r2))"
   ]
  },
  {
   "cell_type": "code",
   "execution_count": 48,
   "metadata": {},
   "outputs": [
    {
     "name": "stdout",
     "output_type": "stream",
     "text": [
      "MSE train: 2123.156, test: 31134.784\n",
      "R^2 train: 0.817, test: 0.146\n"
     ]
    }
   ],
   "source": [
    "from sklearn.metrics import accuracy_score\n",
    "model = xgboost.XGBRegressor(n_estimators=100, learning_rate=0.08, gamma=0, subsample=0.75,\n",
    "                           colsample_bytree=1, max_depth=7)\n",
    "model.fit(X_train,y_train)\n",
    "\n",
    "# print scores \n",
    "predict_y_train = model.predict(X_train)\n",
    "predict_y_test = model.predict(X_test)\n",
    "\n",
    "print('MSE train: %.3f, test: %.3f' % (\n",
    "        mean_squared_error(y_train, predict_y_train),\n",
    "        mean_squared_error(y_test, predict_y_test)))\n",
    "print('R^2 train: %.3f, test: %.3f' % (\n",
    "        r2_score(y_train, predict_y_train),\n",
    "        r2_score(y_test, predict_y_test)))\n",
    "\n"
   ]
  },
  {
   "cell_type": "code",
   "execution_count": 49,
   "metadata": {},
   "outputs": [],
   "source": [
    "import sklearn.metrics as metrics\n",
    "\n",
    "from sklearn import metrics\n",
    "from sklearn import datasets\n",
    "from sklearn.model_selection import cross_validate\n",
    "from sklearn.model_selection import train_test_split\n",
    "from sklearn import linear_model\n",
    "from sklearn import ensemble\n",
    "\n",
    "split_data= cleaned_data.drop(['price'],axis=1)\n",
    "train1,test1,train2,test2=train_test_split(split_data,cleaned_data.price, test_size=0.4,train_size = 0.6,random_state=13)"
   ]
  },
  {
   "cell_type": "code",
   "execution_count": 50,
   "metadata": {},
   "outputs": [
    {
     "name": "stdout",
     "output_type": "stream",
     "text": [
      "mean: 155.64154870940882\n",
      "standard deviation: 138.0168923706099\n"
     ]
    }
   ],
   "source": [
    "# Lets analyze if linear regression can predict the prices accurately\n",
    "# mean of prices\n",
    "mean = np.mean(cleaned_data.price)\n",
    "\n",
    "# standard deviation to compare \n",
    "std = np.std(cleaned_data.price)\n",
    "\n",
    "print(\"mean: \" + str(mean))\n",
    "print (\"standard deviation: \" + str(std))"
   ]
  },
  {
   "cell_type": "markdown",
   "metadata": {},
   "source": [
    "## Dimensionality Reduction using PCA "
   ]
  },
  {
   "cell_type": "code",
   "execution_count": 51,
   "metadata": {},
   "outputs": [
    {
     "data": {
      "text/plain": [
       "PCA(copy=True, iterated_power='auto', n_components=50, random_state=None,\n",
       "  svd_solver='auto', tol=0.0, whiten=False)"
      ]
     },
     "execution_count": 51,
     "metadata": {},
     "output_type": "execute_result"
    }
   ],
   "source": [
    "from sklearn.decomposition import PCA\n",
    "pca = PCA(n_components=50)\n",
    "pca.fit(cleaned_data)\n",
    "PCA(copy=True, iterated_power='auto', n_components=50, random_state=None,\n",
    "    svd_solver='auto', tol=0.0, whiten=False)\n"
   ]
  },
  {
   "cell_type": "markdown",
   "metadata": {},
   "source": [
    "### The variance in the features is very less"
   ]
  },
  {
   "cell_type": "code",
   "execution_count": 52,
   "metadata": {},
   "outputs": [
    {
     "data": {
      "image/png": "[encoded data removed]",
      "text/plain": [
       "<Figure size 1296x720 with 1 Axes>"
      ]
     },
     "metadata": {},
     "output_type": "display_data"
    }
   ],
   "source": [
    "features = range(pca.n_components_)\n",
    "plt.figure(figsize=(18,10))\n",
    "plt.bar(features, pca.explained_variance_)\n",
    "plt.xticks(features)\n",
    "\n",
    "plt.show()"
   ]
  },
  {
   "cell_type": "code",
   "execution_count": 53,
   "metadata": {},
   "outputs": [
    {
     "data": {
      "text/plain": [
       "(16814, 50)"
      ]
     },
     "execution_count": 53,
     "metadata": {},
     "output_type": "execute_result"
    }
   ],
   "source": [
    "pca_features = pca.transform(cleaned_data)\n",
    "pca_features.shape"
   ]
  },
  {
   "cell_type": "code",
   "execution_count": 54,
   "metadata": {},
   "outputs": [
    {
     "data": {
      "text/html": [
       "<div>\n",
       "<style scoped>\n",
       "    .dataframe tbody tr th:only-of-type {\n",
       "        vertical-align: middle;\n",
       "    }\n",
       "\n",
       "    .dataframe tbody tr th {\n",
       "        vertical-align: top;\n",
       "    }\n",
       "\n",
       "    .dataframe thead th {\n",
       "        text-align: right;\n",
       "    }\n",
       "</style>\n",
       "<table border=\"1\" class=\"dataframe\">\n",
       "  <thead>\n",
       "    <tr style=\"text-align: right;\">\n",
       "      <th></th>\n",
       "      <th>0</th>\n",
       "      <th>1</th>\n",
       "      <th>2</th>\n",
       "      <th>3</th>\n",
       "      <th>4</th>\n",
       "      <th>5</th>\n",
       "      <th>6</th>\n",
       "      <th>7</th>\n",
       "      <th>8</th>\n",
       "      <th>9</th>\n",
       "      <th>...</th>\n",
       "      <th>40</th>\n",
       "      <th>41</th>\n",
       "      <th>42</th>\n",
       "      <th>43</th>\n",
       "      <th>44</th>\n",
       "      <th>45</th>\n",
       "      <th>46</th>\n",
       "      <th>47</th>\n",
       "      <th>48</th>\n",
       "      <th>49</th>\n",
       "    </tr>\n",
       "  </thead>\n",
       "  <tbody>\n",
       "    <tr>\n",
       "      <th>0</th>\n",
       "      <td>-5.249506e+07</td>\n",
       "      <td>-1.248558e+07</td>\n",
       "      <td>-547.724518</td>\n",
       "      <td>-89.655621</td>\n",
       "      <td>-81.323652</td>\n",
       "      <td>198.762375</td>\n",
       "      <td>4.906881</td>\n",
       "      <td>-0.905540</td>\n",
       "      <td>2.361142</td>\n",
       "      <td>-2.061139</td>\n",
       "      <td>...</td>\n",
       "      <td>-0.003128</td>\n",
       "      <td>-0.018669</td>\n",
       "      <td>-0.005904</td>\n",
       "      <td>0.005666</td>\n",
       "      <td>0.010117</td>\n",
       "      <td>-0.014760</td>\n",
       "      <td>-0.000234</td>\n",
       "      <td>0.010945</td>\n",
       "      <td>-0.051896</td>\n",
       "      <td>-0.000404</td>\n",
       "    </tr>\n",
       "    <tr>\n",
       "      <th>1</th>\n",
       "      <td>-5.243752e+07</td>\n",
       "      <td>-1.247281e+07</td>\n",
       "      <td>437.210897</td>\n",
       "      <td>-62.738420</td>\n",
       "      <td>-113.906944</td>\n",
       "      <td>213.169066</td>\n",
       "      <td>-13.736035</td>\n",
       "      <td>4.765534</td>\n",
       "      <td>-0.885137</td>\n",
       "      <td>6.916707</td>\n",
       "      <td>...</td>\n",
       "      <td>-0.007488</td>\n",
       "      <td>-0.018885</td>\n",
       "      <td>-0.011295</td>\n",
       "      <td>0.013557</td>\n",
       "      <td>0.010253</td>\n",
       "      <td>-0.016558</td>\n",
       "      <td>-0.003502</td>\n",
       "      <td>0.012428</td>\n",
       "      <td>0.004539</td>\n",
       "      <td>-0.000440</td>\n",
       "    </tr>\n",
       "    <tr>\n",
       "      <th>2</th>\n",
       "      <td>-5.244043e+07</td>\n",
       "      <td>-1.246730e+07</td>\n",
       "      <td>-501.768069</td>\n",
       "      <td>-24.154316</td>\n",
       "      <td>-6.807738</td>\n",
       "      <td>-54.935665</td>\n",
       "      <td>-5.388929</td>\n",
       "      <td>-0.168191</td>\n",
       "      <td>8.680141</td>\n",
       "      <td>-4.608377</td>\n",
       "      <td>...</td>\n",
       "      <td>-0.002255</td>\n",
       "      <td>-0.003463</td>\n",
       "      <td>0.002048</td>\n",
       "      <td>0.003538</td>\n",
       "      <td>-0.002901</td>\n",
       "      <td>-0.004102</td>\n",
       "      <td>0.001892</td>\n",
       "      <td>0.003484</td>\n",
       "      <td>0.001055</td>\n",
       "      <td>-0.001006</td>\n",
       "    </tr>\n",
       "    <tr>\n",
       "      <th>3</th>\n",
       "      <td>-5.239886e+07</td>\n",
       "      <td>-1.246818e+07</td>\n",
       "      <td>167.419383</td>\n",
       "      <td>-3.305570</td>\n",
       "      <td>-29.329337</td>\n",
       "      <td>139.384551</td>\n",
       "      <td>-14.237066</td>\n",
       "      <td>2.024185</td>\n",
       "      <td>-1.123029</td>\n",
       "      <td>-3.762363</td>\n",
       "      <td>...</td>\n",
       "      <td>-0.001587</td>\n",
       "      <td>-0.023707</td>\n",
       "      <td>-0.008113</td>\n",
       "      <td>0.021027</td>\n",
       "      <td>0.003472</td>\n",
       "      <td>-0.009324</td>\n",
       "      <td>-0.005517</td>\n",
       "      <td>0.004818</td>\n",
       "      <td>0.015184</td>\n",
       "      <td>-0.000880</td>\n",
       "    </tr>\n",
       "    <tr>\n",
       "      <th>4</th>\n",
       "      <td>-5.237227e+07</td>\n",
       "      <td>-1.246934e+07</td>\n",
       "      <td>1262.169175</td>\n",
       "      <td>-64.632515</td>\n",
       "      <td>-128.050387</td>\n",
       "      <td>213.845507</td>\n",
       "      <td>-12.323644</td>\n",
       "      <td>6.563802</td>\n",
       "      <td>-0.049927</td>\n",
       "      <td>-3.046269</td>\n",
       "      <td>...</td>\n",
       "      <td>-0.004809</td>\n",
       "      <td>-0.010291</td>\n",
       "      <td>-0.002122</td>\n",
       "      <td>0.010583</td>\n",
       "      <td>0.012475</td>\n",
       "      <td>-0.005539</td>\n",
       "      <td>-0.001776</td>\n",
       "      <td>0.008696</td>\n",
       "      <td>-0.006124</td>\n",
       "      <td>-0.001048</td>\n",
       "    </tr>\n",
       "  </tbody>\n",
       "</table>\n",
       "<p>5 rows × 50 columns</p>\n",
       "</div>"
      ],
      "text/plain": [
       "             0             1            2          3           4           5   \\\n",
       "0 -5.249506e+07 -1.248558e+07  -547.724518 -89.655621  -81.323652  198.762375   \n",
       "1 -5.243752e+07 -1.247281e+07   437.210897 -62.738420 -113.906944  213.169066   \n",
       "2 -5.244043e+07 -1.246730e+07  -501.768069 -24.154316   -6.807738  -54.935665   \n",
       "3 -5.239886e+07 -1.246818e+07   167.419383  -3.305570  -29.329337  139.384551   \n",
       "4 -5.237227e+07 -1.246934e+07  1262.169175 -64.632515 -128.050387  213.845507   \n",
       "\n",
       "          6         7         8         9     ...           40        41  \\\n",
       "0   4.906881 -0.905540  2.361142 -2.061139    ...    -0.003128 -0.018669   \n",
       "1 -13.736035  4.765534 -0.885137  6.916707    ...    -0.007488 -0.018885   \n",
       "2  -5.388929 -0.168191  8.680141 -4.608377    ...    -0.002255 -0.003463   \n",
       "3 -14.237066  2.024185 -1.123029 -3.762363    ...    -0.001587 -0.023707   \n",
       "4 -12.323644  6.563802 -0.049927 -3.046269    ...    -0.004809 -0.010291   \n",
       "\n",
       "         42        43        44        45        46        47        48  \\\n",
       "0 -0.005904  0.005666  0.010117 -0.014760 -0.000234  0.010945 -0.051896   \n",
       "1 -0.011295  0.013557  0.010253 -0.016558 -0.003502  0.012428  0.004539   \n",
       "2  0.002048  0.003538 -0.002901 -0.004102  0.001892  0.003484  0.001055   \n",
       "3 -0.008113  0.021027  0.003472 -0.009324 -0.005517  0.004818  0.015184   \n",
       "4 -0.002122  0.010583  0.012475 -0.005539 -0.001776  0.008696 -0.006124   \n",
       "\n",
       "         49  \n",
       "0 -0.000404  \n",
       "1 -0.000440  \n",
       "2 -0.001006  \n",
       "3 -0.000880  \n",
       "4 -0.001048  \n",
       "\n",
       "[5 rows x 50 columns]"
      ]
     },
     "execution_count": 54,
     "metadata": {},
     "output_type": "execute_result"
    }
   ],
   "source": [
    "pca_data = pd.DataFrame(pca_features)\n",
    "pca_data.head()"
   ]
  },
  {
   "cell_type": "code",
   "execution_count": 56,
   "metadata": {},
   "outputs": [],
   "source": [
    "from sklearn.cluster import KMeans\n",
    "# Fit Kmeans and calculate SSE for each k value\n",
    "sse = {}\n",
    "for k in range(1, 11):\n",
    "    kmeans = KMeans(n_clusters=k, random_state=1)\n",
    "    kmeans.fit(pca_data)\n",
    "    sse[k] = kmeans.inertia_ # sum of squared distances to the closest cluster centers"
   ]
  },
  {
   "cell_type": "code",
   "execution_count": 58,
   "metadata": {},
   "outputs": [
    {
     "data": {
      "image/png": "[encoded data removed]",
      "text/plain": [
       "<Figure size 504x504 with 1 Axes>"
      ]
     },
     "metadata": {},
     "output_type": "display_data"
    }
   ],
   "source": [
    "# plot SSE for each k\n",
    "plt.title('The Elbow Method')\n",
    "plt.xlabel('k')\n",
    "plt.ylabel('SSE')\n",
    "sns.pointplot(x=list(sse.keys()), y=list(sse.values()))\n",
    "plt.show()"
   ]
  },
  {
   "cell_type": "code",
   "execution_count": null,
   "metadata": {},
   "outputs": [],
   "source": []
  }
 ],
 "metadata": {
  "kernelspec": {
   "display_name": "Python 3",
   "language": "python",
   "name": "python3"
  },
  "language_info": {
   "codemirror_mode": {
    "name": "ipython",
    "version": 3
   },
   "file_extension": ".py",
   "mimetype": "text/x-python",
   "name": "python",
   "nbconvert_exporter": "python",
   "pygments_lexer": "ipython3",
   "version": "3.6.5"
  }
 },
 "nbformat": 4,
 "nbformat_minor": 2
}
